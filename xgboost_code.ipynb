{
 "cells": [
  {
   "cell_type": "markdown",
   "metadata": {},
   "source": [
    "# Feature Selection with Variable Importance"
   ]
  },
  {
   "cell_type": "code",
   "execution_count": null,
   "metadata": {},
   "outputs": [],
   "source": [
    "# Windows use in Jupyter notebook\n",
    "# ! pip install xgboost"
   ]
  },
  {
   "cell_type": "code",
   "execution_count": null,
   "metadata": {},
   "outputs": [],
   "source": [
    "# Mac OS open Terminal then use\n",
    "# sudo pip install xgboost"
   ]
  },
  {
   "cell_type": "code",
   "execution_count": null,
   "metadata": {},
   "outputs": [],
   "source": [
    "# Mac OS may also try from the Terminal\n",
    "# conda install py-xgboost"
   ]
  },
  {
   "cell_type": "code",
   "execution_count": 1,
   "metadata": {},
   "outputs": [],
   "source": [
    "import numpy as np\n",
    "import pandas as pd"
   ]
  },
  {
   "cell_type": "code",
   "execution_count": 2,
   "metadata": {},
   "outputs": [],
   "source": [
    "from matplotlib import pyplot"
   ]
  },
  {
   "cell_type": "code",
   "execution_count": 3,
   "metadata": {},
   "outputs": [],
   "source": [
    "from xgboost import XGBClassifier\n",
    "from sklearn.feature_selection import SelectFromModel"
   ]
  },
  {
   "cell_type": "code",
   "execution_count": 4,
   "metadata": {},
   "outputs": [],
   "source": [
    "from sklearn.model_selection import train_test_split\n",
    "from sklearn.metrics import accuracy_score"
   ]
  },
  {
   "cell_type": "code",
   "execution_count": 5,
   "metadata": {},
   "outputs": [],
   "source": [
    "dataset = pd.read_csv('diabetes.csv')"
   ]
  },
  {
   "cell_type": "code",
   "execution_count": 6,
   "metadata": {},
   "outputs": [
    {
     "data": {
      "text/html": [
       "<div>\n",
       "<style scoped>\n",
       "    .dataframe tbody tr th:only-of-type {\n",
       "        vertical-align: middle;\n",
       "    }\n",
       "\n",
       "    .dataframe tbody tr th {\n",
       "        vertical-align: top;\n",
       "    }\n",
       "\n",
       "    .dataframe thead th {\n",
       "        text-align: right;\n",
       "    }\n",
       "</style>\n",
       "<table border=\"1\" class=\"dataframe\">\n",
       "  <thead>\n",
       "    <tr style=\"text-align: right;\">\n",
       "      <th></th>\n",
       "      <th>Pregnancies</th>\n",
       "      <th>Glucose</th>\n",
       "      <th>BloodPressure</th>\n",
       "      <th>SkinThickness</th>\n",
       "      <th>Insulin</th>\n",
       "      <th>BMI</th>\n",
       "      <th>PedigreeFunc</th>\n",
       "      <th>Age</th>\n",
       "      <th>Outcome</th>\n",
       "    </tr>\n",
       "  </thead>\n",
       "  <tbody>\n",
       "    <tr>\n",
       "      <th>0</th>\n",
       "      <td>6</td>\n",
       "      <td>148</td>\n",
       "      <td>72</td>\n",
       "      <td>35</td>\n",
       "      <td>0</td>\n",
       "      <td>33.6</td>\n",
       "      <td>0.627</td>\n",
       "      <td>50</td>\n",
       "      <td>1</td>\n",
       "    </tr>\n",
       "    <tr>\n",
       "      <th>1</th>\n",
       "      <td>1</td>\n",
       "      <td>85</td>\n",
       "      <td>66</td>\n",
       "      <td>29</td>\n",
       "      <td>0</td>\n",
       "      <td>26.6</td>\n",
       "      <td>0.351</td>\n",
       "      <td>31</td>\n",
       "      <td>0</td>\n",
       "    </tr>\n",
       "    <tr>\n",
       "      <th>2</th>\n",
       "      <td>8</td>\n",
       "      <td>183</td>\n",
       "      <td>64</td>\n",
       "      <td>0</td>\n",
       "      <td>0</td>\n",
       "      <td>23.3</td>\n",
       "      <td>0.672</td>\n",
       "      <td>32</td>\n",
       "      <td>1</td>\n",
       "    </tr>\n",
       "    <tr>\n",
       "      <th>3</th>\n",
       "      <td>1</td>\n",
       "      <td>89</td>\n",
       "      <td>66</td>\n",
       "      <td>23</td>\n",
       "      <td>94</td>\n",
       "      <td>28.1</td>\n",
       "      <td>0.167</td>\n",
       "      <td>21</td>\n",
       "      <td>0</td>\n",
       "    </tr>\n",
       "    <tr>\n",
       "      <th>4</th>\n",
       "      <td>0</td>\n",
       "      <td>137</td>\n",
       "      <td>40</td>\n",
       "      <td>35</td>\n",
       "      <td>168</td>\n",
       "      <td>43.1</td>\n",
       "      <td>2.288</td>\n",
       "      <td>33</td>\n",
       "      <td>1</td>\n",
       "    </tr>\n",
       "  </tbody>\n",
       "</table>\n",
       "</div>"
      ],
      "text/plain": [
       "   Pregnancies  Glucose  BloodPressure  SkinThickness  Insulin   BMI  \\\n",
       "0            6      148             72             35        0  33.6   \n",
       "1            1       85             66             29        0  26.6   \n",
       "2            8      183             64              0        0  23.3   \n",
       "3            1       89             66             23       94  28.1   \n",
       "4            0      137             40             35      168  43.1   \n",
       "\n",
       "   PedigreeFunc  Age  Outcome  \n",
       "0         0.627   50        1  \n",
       "1         0.351   31        0  \n",
       "2         0.672   32        1  \n",
       "3         0.167   21        0  \n",
       "4         2.288   33        1  "
      ]
     },
     "execution_count": 6,
     "metadata": {},
     "output_type": "execute_result"
    }
   ],
   "source": [
    "dataset[:5]"
   ]
  },
  {
   "cell_type": "code",
   "execution_count": 7,
   "metadata": {},
   "outputs": [
    {
     "data": {
      "text/plain": [
       "(768, 9)"
      ]
     },
     "execution_count": 7,
     "metadata": {},
     "output_type": "execute_result"
    }
   ],
   "source": [
    "dataset.shape"
   ]
  },
  {
   "cell_type": "code",
   "execution_count": 8,
   "metadata": {},
   "outputs": [],
   "source": [
    "X = dataset.drop(['Outcome'],axis = 1)\n",
    "Y = dataset.Outcome"
   ]
  },
  {
   "cell_type": "code",
   "execution_count": 9,
   "metadata": {},
   "outputs": [],
   "source": [
    "X_train,X_test,y_train,y_test = train_test_split(X,Y,test_size = 0.33,\n",
    "                                                random_state = 1)"
   ]
  },
  {
   "cell_type": "code",
   "execution_count": 10,
   "metadata": {},
   "outputs": [
    {
     "data": {
      "text/plain": [
       "(514,)"
      ]
     },
     "execution_count": 10,
     "metadata": {},
     "output_type": "execute_result"
    }
   ],
   "source": [
    "y_train.shape"
   ]
  },
  {
   "cell_type": "code",
   "execution_count": 11,
   "metadata": {},
   "outputs": [
    {
     "data": {
      "text/plain": [
       "(254,)"
      ]
     },
     "execution_count": 11,
     "metadata": {},
     "output_type": "execute_result"
    }
   ],
   "source": [
    "y_test.shape"
   ]
  },
  {
   "cell_type": "code",
   "execution_count": 12,
   "metadata": {},
   "outputs": [
    {
     "data": {
      "text/plain": [
       "XGBClassifier(base_score=0.5, booster='gbtree', colsample_bylevel=1,\n",
       "       colsample_bynode=1, colsample_bytree=1, gamma=0, learning_rate=0.1,\n",
       "       max_delta_step=0, max_depth=3, min_child_weight=1, missing=None,\n",
       "       n_estimators=100, n_jobs=1, nthread=None,\n",
       "       objective='binary:logistic', random_state=0, reg_alpha=0,\n",
       "       reg_lambda=1, scale_pos_weight=1, seed=None, silent=None,\n",
       "       subsample=1, verbosity=1)"
      ]
     },
     "execution_count": 12,
     "metadata": {},
     "output_type": "execute_result"
    }
   ],
   "source": [
    "model = XGBClassifier(n_estimators = 100,learning_rate = 0.10)\n",
    "model.fit(X_train,y_train)"
   ]
  },
  {
   "cell_type": "code",
   "execution_count": 13,
   "metadata": {},
   "outputs": [
    {
     "data": {
      "text/plain": [
       "0.7834645669291339"
      ]
     },
     "execution_count": 13,
     "metadata": {},
     "output_type": "execute_result"
    }
   ],
   "source": [
    "predictions = model.predict(X_test)\n",
    "accuracy = accuracy_score(y_test,predictions)\n",
    "accuracy"
   ]
  },
  {
   "cell_type": "markdown",
   "metadata": {},
   "source": [
    "### test subset of features by importance"
   ]
  },
  {
   "cell_type": "code",
   "execution_count": 14,
   "metadata": {},
   "outputs": [],
   "source": [
    "importance = model.feature_importances_*100"
   ]
  },
  {
   "cell_type": "code",
   "execution_count": 15,
   "metadata": {},
   "outputs": [],
   "source": [
    "importances = pd.DataFrame({'Importance':importance},index = X.columns)"
   ]
  },
  {
   "cell_type": "code",
   "execution_count": 16,
   "metadata": {},
   "outputs": [
    {
     "data": {
      "text/html": [
       "<div>\n",
       "<style scoped>\n",
       "    .dataframe tbody tr th:only-of-type {\n",
       "        vertical-align: middle;\n",
       "    }\n",
       "\n",
       "    .dataframe tbody tr th {\n",
       "        vertical-align: top;\n",
       "    }\n",
       "\n",
       "    .dataframe thead th {\n",
       "        text-align: right;\n",
       "    }\n",
       "</style>\n",
       "<table border=\"1\" class=\"dataframe\">\n",
       "  <thead>\n",
       "    <tr style=\"text-align: right;\">\n",
       "      <th></th>\n",
       "      <th>Importance</th>\n",
       "    </tr>\n",
       "  </thead>\n",
       "  <tbody>\n",
       "    <tr>\n",
       "      <th>Pregnancies</th>\n",
       "      <td>9.570684</td>\n",
       "    </tr>\n",
       "    <tr>\n",
       "      <th>Glucose</th>\n",
       "      <td>27.991962</td>\n",
       "    </tr>\n",
       "    <tr>\n",
       "      <th>BloodPressure</th>\n",
       "      <td>8.152946</td>\n",
       "    </tr>\n",
       "    <tr>\n",
       "      <th>SkinThickness</th>\n",
       "      <td>6.598003</td>\n",
       "    </tr>\n",
       "    <tr>\n",
       "      <th>Insulin</th>\n",
       "      <td>8.882334</td>\n",
       "    </tr>\n",
       "    <tr>\n",
       "      <th>BMI</th>\n",
       "      <td>16.970392</td>\n",
       "    </tr>\n",
       "    <tr>\n",
       "      <th>PedigreeFunc</th>\n",
       "      <td>9.298628</td>\n",
       "    </tr>\n",
       "    <tr>\n",
       "      <th>Age</th>\n",
       "      <td>12.535053</td>\n",
       "    </tr>\n",
       "  </tbody>\n",
       "</table>\n",
       "</div>"
      ],
      "text/plain": [
       "               Importance\n",
       "Pregnancies      9.570684\n",
       "Glucose         27.991962\n",
       "BloodPressure    8.152946\n",
       "SkinThickness    6.598003\n",
       "Insulin          8.882334\n",
       "BMI             16.970392\n",
       "PedigreeFunc     9.298628\n",
       "Age             12.535053"
      ]
     },
     "execution_count": 16,
     "metadata": {},
     "output_type": "execute_result"
    }
   ],
   "source": [
    "importances"
   ]
  },
  {
   "cell_type": "code",
   "execution_count": 17,
   "metadata": {},
   "outputs": [],
   "source": [
    "thresholds = importances.sort_values(by='Importance',axis = 0, ascending = True)"
   ]
  },
  {
   "cell_type": "code",
   "execution_count": 18,
   "metadata": {},
   "outputs": [
    {
     "data": {
      "text/html": [
       "<div>\n",
       "<style scoped>\n",
       "    .dataframe tbody tr th:only-of-type {\n",
       "        vertical-align: middle;\n",
       "    }\n",
       "\n",
       "    .dataframe tbody tr th {\n",
       "        vertical-align: top;\n",
       "    }\n",
       "\n",
       "    .dataframe thead th {\n",
       "        text-align: right;\n",
       "    }\n",
       "</style>\n",
       "<table border=\"1\" class=\"dataframe\">\n",
       "  <thead>\n",
       "    <tr style=\"text-align: right;\">\n",
       "      <th></th>\n",
       "      <th>Importance</th>\n",
       "    </tr>\n",
       "  </thead>\n",
       "  <tbody>\n",
       "    <tr>\n",
       "      <th>SkinThickness</th>\n",
       "      <td>6.598003</td>\n",
       "    </tr>\n",
       "    <tr>\n",
       "      <th>BloodPressure</th>\n",
       "      <td>8.152946</td>\n",
       "    </tr>\n",
       "    <tr>\n",
       "      <th>Insulin</th>\n",
       "      <td>8.882334</td>\n",
       "    </tr>\n",
       "    <tr>\n",
       "      <th>PedigreeFunc</th>\n",
       "      <td>9.298628</td>\n",
       "    </tr>\n",
       "    <tr>\n",
       "      <th>Pregnancies</th>\n",
       "      <td>9.570684</td>\n",
       "    </tr>\n",
       "    <tr>\n",
       "      <th>Age</th>\n",
       "      <td>12.535053</td>\n",
       "    </tr>\n",
       "    <tr>\n",
       "      <th>BMI</th>\n",
       "      <td>16.970392</td>\n",
       "    </tr>\n",
       "    <tr>\n",
       "      <th>Glucose</th>\n",
       "      <td>27.991962</td>\n",
       "    </tr>\n",
       "  </tbody>\n",
       "</table>\n",
       "</div>"
      ],
      "text/plain": [
       "               Importance\n",
       "SkinThickness    6.598003\n",
       "BloodPressure    8.152946\n",
       "Insulin          8.882334\n",
       "PedigreeFunc     9.298628\n",
       "Pregnancies      9.570684\n",
       "Age             12.535053\n",
       "BMI             16.970392\n",
       "Glucose         27.991962"
      ]
     },
     "execution_count": 18,
     "metadata": {},
     "output_type": "execute_result"
    }
   ],
   "source": [
    "thresholds"
   ]
  },
  {
   "cell_type": "code",
   "execution_count": 19,
   "metadata": {},
   "outputs": [],
   "source": [
    "import matplotlib.pyplot as plt"
   ]
  },
  {
   "cell_type": "code",
   "execution_count": 20,
   "metadata": {},
   "outputs": [
    {
     "data": {
      "image/png": "[encoded data removed]",
      "text/plain": [
       "<Figure size 432x288 with 1 Axes>"
      ]
     },
     "metadata": {
      "needs_background": "light"
     },
     "output_type": "display_data"
    }
   ],
   "source": [
    "thresholds.plot(kind = 'barh',color = 'r')\n",
    "plt.xlabel('Variable importance')\n",
    "plt.grid()"
   ]
  },
  {
   "cell_type": "code",
   "execution_count": 21,
   "metadata": {},
   "outputs": [],
   "source": [
    "thresholds = sorted(model.feature_importances_,reverse = True)"
   ]
  },
  {
   "cell_type": "code",
   "execution_count": 22,
   "metadata": {},
   "outputs": [
    {
     "data": {
      "text/plain": [
       "[0.27991962,\n",
       " 0.16970392,\n",
       " 0.12535053,\n",
       " 0.09570684,\n",
       " 0.09298628,\n",
       " 0.08882333,\n",
       " 0.08152946,\n",
       " 0.06598003]"
      ]
     },
     "execution_count": 22,
     "metadata": {},
     "output_type": "execute_result"
    }
   ],
   "source": [
    "thresholds"
   ]
  },
  {
   "cell_type": "code",
   "execution_count": 23,
   "metadata": {},
   "outputs": [
    {
     "data": {
      "text/plain": [
       "list"
      ]
     },
     "execution_count": 23,
     "metadata": {},
     "output_type": "execute_result"
    }
   ],
   "source": [
    "type(thresholds)"
   ]
  },
  {
   "cell_type": "code",
   "execution_count": 24,
   "metadata": {},
   "outputs": [],
   "source": [
    "# fit each subset of features by importance\n",
    "# starting with the most important, ending with all features"
   ]
  },
  {
   "cell_type": "code",
   "execution_count": 25,
   "metadata": {},
   "outputs": [
    {
     "name": "stdout",
     "output_type": "stream",
     "text": [
      "Thresh=0.280,n=1,Accuracy: 74.80%\n",
      "Thresh=0.170,n=2,Accuracy: 75.59%\n",
      "Thresh=0.125,n=3,Accuracy: 79.53%\n",
      "Thresh=0.096,n=4,Accuracy: 80.31%\n",
      "Thresh=0.093,n=5,Accuracy: 78.35%\n",
      "Thresh=0.089,n=6,Accuracy: 79.13%\n",
      "Thresh=0.082,n=7,Accuracy: 80.71%\n",
      "Thresh=0.066,n=8,Accuracy: 78.35%\n"
     ]
    }
   ],
   "source": [
    "for thresh in thresholds:\n",
    "    selection = SelectFromModel(model,threshold = thresh, prefit = True)\n",
    "    X_train_selected = selection.transform(X_train)\n",
    "    X_test_selected = selection.transform(X_test)\n",
    "    \n",
    "    model2 = XGBClassifier()\n",
    "    model2.fit(X_train_selected,y_train)\n",
    "    predictions = model2.predict(X_test_selected)\n",
    "    accuracy = accuracy_score(y_test,predictions)*100\n",
    "    n_features = X_train_selected.shape[1]\n",
    "    print('Thresh=%.3f,n=%d,Accuracy: %.2f%%' % (thresh,n_features,accuracy))"
   ]
  },
  {
   "cell_type": "code",
   "execution_count": 26,
   "metadata": {},
   "outputs": [],
   "source": [
    "# only first three features are good enough"
   ]
  },
  {
   "cell_type": "markdown",
   "metadata": {},
   "source": [
    "## show performance after each additional tree"
   ]
  },
  {
   "cell_type": "code",
   "execution_count": 27,
   "metadata": {},
   "outputs": [],
   "source": [
    "# test set performance"
   ]
  },
  {
   "cell_type": "code",
   "execution_count": 28,
   "metadata": {},
   "outputs": [],
   "source": [
    "eval_set = [(X_test,y_test)]"
   ]
  },
  {
   "cell_type": "code",
   "execution_count": 29,
   "metadata": {},
   "outputs": [],
   "source": [
    "# verbose = True will list 'error rate' after each additional tree"
   ]
  },
  {
   "cell_type": "code",
   "execution_count": 30,
   "metadata": {},
   "outputs": [
    {
     "name": "stdout",
     "output_type": "stream",
     "text": [
      "[0]\tvalidation_0-error:0.204724\n",
      "[1]\tvalidation_0-error:0.216535\n",
      "[2]\tvalidation_0-error:0.208661\n",
      "[3]\tvalidation_0-error:0.216535\n",
      "[4]\tvalidation_0-error:0.208661\n",
      "[5]\tvalidation_0-error:0.208661\n",
      "[6]\tvalidation_0-error:0.204724\n",
      "[7]\tvalidation_0-error:0.200787\n",
      "[8]\tvalidation_0-error:0.200787\n",
      "[9]\tvalidation_0-error:0.200787\n",
      "[10]\tvalidation_0-error:0.208661\n",
      "[11]\tvalidation_0-error:0.208661\n",
      "[12]\tvalidation_0-error:0.204724\n",
      "[13]\tvalidation_0-error:0.208661\n",
      "[14]\tvalidation_0-error:0.208661\n",
      "[15]\tvalidation_0-error:0.212598\n",
      "[16]\tvalidation_0-error:0.220472\n",
      "[17]\tvalidation_0-error:0.212598\n",
      "[18]\tvalidation_0-error:0.216535\n",
      "[19]\tvalidation_0-error:0.212598\n",
      "[20]\tvalidation_0-error:0.216535\n",
      "[21]\tvalidation_0-error:0.212598\n",
      "[22]\tvalidation_0-error:0.212598\n",
      "[23]\tvalidation_0-error:0.212598\n",
      "[24]\tvalidation_0-error:0.208661\n",
      "[25]\tvalidation_0-error:0.204724\n",
      "[26]\tvalidation_0-error:0.204724\n",
      "[27]\tvalidation_0-error:0.204724\n",
      "[28]\tvalidation_0-error:0.200787\n",
      "[29]\tvalidation_0-error:0.200787\n",
      "[30]\tvalidation_0-error:0.19685\n",
      "[31]\tvalidation_0-error:0.19685\n",
      "[32]\tvalidation_0-error:0.192913\n",
      "[33]\tvalidation_0-error:0.19685\n",
      "[34]\tvalidation_0-error:0.19685\n",
      "[35]\tvalidation_0-error:0.192913\n",
      "[36]\tvalidation_0-error:0.192913\n",
      "[37]\tvalidation_0-error:0.192913\n",
      "[38]\tvalidation_0-error:0.192913\n",
      "[39]\tvalidation_0-error:0.188976\n",
      "[40]\tvalidation_0-error:0.188976\n",
      "[41]\tvalidation_0-error:0.19685\n",
      "[42]\tvalidation_0-error:0.19685\n",
      "[43]\tvalidation_0-error:0.19685\n",
      "[44]\tvalidation_0-error:0.19685\n",
      "[45]\tvalidation_0-error:0.19685\n",
      "[46]\tvalidation_0-error:0.19685\n",
      "[47]\tvalidation_0-error:0.19685\n",
      "[48]\tvalidation_0-error:0.19685\n",
      "[49]\tvalidation_0-error:0.19685\n",
      "[50]\tvalidation_0-error:0.19685\n",
      "[51]\tvalidation_0-error:0.204724\n",
      "[52]\tvalidation_0-error:0.204724\n",
      "[53]\tvalidation_0-error:0.200787\n",
      "[54]\tvalidation_0-error:0.200787\n",
      "[55]\tvalidation_0-error:0.19685\n",
      "[56]\tvalidation_0-error:0.200787\n",
      "[57]\tvalidation_0-error:0.200787\n",
      "[58]\tvalidation_0-error:0.208661\n",
      "[59]\tvalidation_0-error:0.208661\n",
      "[60]\tvalidation_0-error:0.204724\n",
      "[61]\tvalidation_0-error:0.204724\n",
      "[62]\tvalidation_0-error:0.204724\n",
      "[63]\tvalidation_0-error:0.19685\n",
      "[64]\tvalidation_0-error:0.200787\n",
      "[65]\tvalidation_0-error:0.200787\n",
      "[66]\tvalidation_0-error:0.19685\n",
      "[67]\tvalidation_0-error:0.19685\n",
      "[68]\tvalidation_0-error:0.200787\n",
      "[69]\tvalidation_0-error:0.200787\n",
      "[70]\tvalidation_0-error:0.200787\n",
      "[71]\tvalidation_0-error:0.200787\n",
      "[72]\tvalidation_0-error:0.19685\n",
      "[73]\tvalidation_0-error:0.19685\n",
      "[74]\tvalidation_0-error:0.19685\n",
      "[75]\tvalidation_0-error:0.19685\n",
      "[76]\tvalidation_0-error:0.19685\n",
      "[77]\tvalidation_0-error:0.204724\n",
      "[78]\tvalidation_0-error:0.200787\n",
      "[79]\tvalidation_0-error:0.204724\n",
      "[80]\tvalidation_0-error:0.208661\n",
      "[81]\tvalidation_0-error:0.208661\n",
      "[82]\tvalidation_0-error:0.208661\n",
      "[83]\tvalidation_0-error:0.208661\n",
      "[84]\tvalidation_0-error:0.212598\n",
      "[85]\tvalidation_0-error:0.204724\n",
      "[86]\tvalidation_0-error:0.208661\n",
      "[87]\tvalidation_0-error:0.204724\n",
      "[88]\tvalidation_0-error:0.200787\n",
      "[89]\tvalidation_0-error:0.204724\n",
      "[90]\tvalidation_0-error:0.204724\n",
      "[91]\tvalidation_0-error:0.204724\n",
      "[92]\tvalidation_0-error:0.208661\n",
      "[93]\tvalidation_0-error:0.208661\n",
      "[94]\tvalidation_0-error:0.204724\n",
      "[95]\tvalidation_0-error:0.208661\n",
      "[96]\tvalidation_0-error:0.212598\n",
      "[97]\tvalidation_0-error:0.212598\n",
      "[98]\tvalidation_0-error:0.212598\n",
      "[99]\tvalidation_0-error:0.216535\n"
     ]
    },
    {
     "data": {
      "text/plain": [
       "XGBClassifier(base_score=0.5, booster='gbtree', colsample_bylevel=1,\n",
       "       colsample_bynode=1, colsample_bytree=1, gamma=0, learning_rate=0.1,\n",
       "       max_delta_step=0, max_depth=3, min_child_weight=1, missing=None,\n",
       "       n_estimators=100, n_jobs=1, nthread=None,\n",
       "       objective='binary:logistic', random_state=0, reg_alpha=0,\n",
       "       reg_lambda=1, scale_pos_weight=1, seed=None, silent=None,\n",
       "       subsample=1, verbosity=1)"
      ]
     },
     "execution_count": 30,
     "metadata": {},
     "output_type": "execute_result"
    }
   ],
   "source": [
    "model = XGBClassifier(n_estimators =100,learning_rate = 0.10)\n",
    "model.fit(X_train,y_train, eval_metric='error',eval_set = eval_set,verbose = True)"
   ]
  },
  {
   "cell_type": "code",
   "execution_count": 31,
   "metadata": {},
   "outputs": [
    {
     "data": {
      "text/plain": [
       "0.7834645669291339"
      ]
     },
     "execution_count": 31,
     "metadata": {},
     "output_type": "execute_result"
    }
   ],
   "source": [
    "accuracy = accuracy_score(y_test,model.predict(X_test))\n",
    "accuracy"
   ]
  },
  {
   "cell_type": "code",
   "execution_count": 32,
   "metadata": {},
   "outputs": [],
   "source": [
    "# which is"
   ]
  },
  {
   "cell_type": "code",
   "execution_count": 33,
   "metadata": {},
   "outputs": [
    {
     "data": {
      "text/plain": [
       "78.34649999999999"
      ]
     },
     "execution_count": 33,
     "metadata": {},
     "output_type": "execute_result"
    }
   ],
   "source": [
    "(1-0.216535)*100"
   ]
  },
  {
   "cell_type": "code",
   "execution_count": 34,
   "metadata": {},
   "outputs": [],
   "source": [
    "# now we ask for both train and test loglosses"
   ]
  },
  {
   "cell_type": "code",
   "execution_count": 35,
   "metadata": {},
   "outputs": [],
   "source": [
    "eval_set = [(X_train,y_train),(X_test,y_test)]"
   ]
  },
  {
   "cell_type": "code",
   "execution_count": 36,
   "metadata": {},
   "outputs": [],
   "source": [
    "# logloss"
   ]
  },
  {
   "cell_type": "code",
   "execution_count": 37,
   "metadata": {},
   "outputs": [
    {
     "name": "stdout",
     "output_type": "stream",
     "text": [
      "[0]\tvalidation_0-logloss:0.65788\tvalidation_1-logloss:0.655346\n",
      "[1]\tvalidation_0-logloss:0.628762\tvalidation_1-logloss:0.624793\n",
      "[2]\tvalidation_0-logloss:0.604005\tvalidation_1-logloss:0.600539\n",
      "[3]\tvalidation_0-logloss:0.582058\tvalidation_1-logloss:0.581588\n",
      "[4]\tvalidation_0-logloss:0.563951\tvalidation_1-logloss:0.56345\n",
      "[5]\tvalidation_0-logloss:0.547051\tvalidation_1-logloss:0.550083\n",
      "[6]\tvalidation_0-logloss:0.532555\tvalidation_1-logloss:0.537342\n",
      "[7]\tvalidation_0-logloss:0.519139\tvalidation_1-logloss:0.527344\n",
      "[8]\tvalidation_0-logloss:0.507558\tvalidation_1-logloss:0.517816\n",
      "[9]\tvalidation_0-logloss:0.497403\tvalidation_1-logloss:0.508975\n",
      "[10]\tvalidation_0-logloss:0.487708\tvalidation_1-logloss:0.501102\n",
      "[11]\tvalidation_0-logloss:0.479711\tvalidation_1-logloss:0.492523\n",
      "[12]\tvalidation_0-logloss:0.471523\tvalidation_1-logloss:0.488099\n",
      "[13]\tvalidation_0-logloss:0.464849\tvalidation_1-logloss:0.481677\n",
      "[14]\tvalidation_0-logloss:0.457956\tvalidation_1-logloss:0.476013\n",
      "[15]\tvalidation_0-logloss:0.451947\tvalidation_1-logloss:0.473317\n",
      "[16]\tvalidation_0-logloss:0.445894\tvalidation_1-logloss:0.470953\n",
      "[17]\tvalidation_0-logloss:0.440508\tvalidation_1-logloss:0.467015\n",
      "[18]\tvalidation_0-logloss:0.435443\tvalidation_1-logloss:0.465018\n",
      "[19]\tvalidation_0-logloss:0.431007\tvalidation_1-logloss:0.462345\n",
      "[20]\tvalidation_0-logloss:0.426116\tvalidation_1-logloss:0.461446\n",
      "[21]\tvalidation_0-logloss:0.422053\tvalidation_1-logloss:0.459869\n",
      "[22]\tvalidation_0-logloss:0.417966\tvalidation_1-logloss:0.458658\n",
      "[23]\tvalidation_0-logloss:0.413267\tvalidation_1-logloss:0.457215\n",
      "[24]\tvalidation_0-logloss:0.409795\tvalidation_1-logloss:0.455284\n",
      "[25]\tvalidation_0-logloss:0.406506\tvalidation_1-logloss:0.4556\n",
      "[26]\tvalidation_0-logloss:0.403205\tvalidation_1-logloss:0.454292\n",
      "[27]\tvalidation_0-logloss:0.400256\tvalidation_1-logloss:0.455537\n",
      "[28]\tvalidation_0-logloss:0.397774\tvalidation_1-logloss:0.453503\n",
      "[29]\tvalidation_0-logloss:0.394623\tvalidation_1-logloss:0.449959\n",
      "[30]\tvalidation_0-logloss:0.391093\tvalidation_1-logloss:0.448591\n",
      "[31]\tvalidation_0-logloss:0.388867\tvalidation_1-logloss:0.44806\n",
      "[32]\tvalidation_0-logloss:0.385315\tvalidation_1-logloss:0.448243\n",
      "[33]\tvalidation_0-logloss:0.382567\tvalidation_1-logloss:0.448426\n",
      "[34]\tvalidation_0-logloss:0.379953\tvalidation_1-logloss:0.448667\n",
      "[35]\tvalidation_0-logloss:0.377844\tvalidation_1-logloss:0.447633\n",
      "[36]\tvalidation_0-logloss:0.375537\tvalidation_1-logloss:0.448056\n",
      "[37]\tvalidation_0-logloss:0.373985\tvalidation_1-logloss:0.446788\n",
      "[38]\tvalidation_0-logloss:0.37229\tvalidation_1-logloss:0.44667\n",
      "[39]\tvalidation_0-logloss:0.369477\tvalidation_1-logloss:0.44641\n",
      "[40]\tvalidation_0-logloss:0.36814\tvalidation_1-logloss:0.445328\n",
      "[41]\tvalidation_0-logloss:0.365575\tvalidation_1-logloss:0.446546\n",
      "[42]\tvalidation_0-logloss:0.363697\tvalidation_1-logloss:0.445638\n",
      "[43]\tvalidation_0-logloss:0.361734\tvalidation_1-logloss:0.446262\n",
      "[44]\tvalidation_0-logloss:0.360291\tvalidation_1-logloss:0.445565\n",
      "[45]\tvalidation_0-logloss:0.358486\tvalidation_1-logloss:0.446788\n",
      "[46]\tvalidation_0-logloss:0.356487\tvalidation_1-logloss:0.448495\n",
      "[47]\tvalidation_0-logloss:0.355373\tvalidation_1-logloss:0.448358\n",
      "[48]\tvalidation_0-logloss:0.35194\tvalidation_1-logloss:0.448197\n",
      "[49]\tvalidation_0-logloss:0.349084\tvalidation_1-logloss:0.445837\n",
      "[50]\tvalidation_0-logloss:0.347363\tvalidation_1-logloss:0.447654\n",
      "[51]\tvalidation_0-logloss:0.345482\tvalidation_1-logloss:0.449019\n",
      "[52]\tvalidation_0-logloss:0.344506\tvalidation_1-logloss:0.448606\n",
      "[53]\tvalidation_0-logloss:0.342043\tvalidation_1-logloss:0.447602\n",
      "[54]\tvalidation_0-logloss:0.340696\tvalidation_1-logloss:0.445753\n",
      "[55]\tvalidation_0-logloss:0.338951\tvalidation_1-logloss:0.446105\n",
      "[56]\tvalidation_0-logloss:0.338099\tvalidation_1-logloss:0.445777\n",
      "[57]\tvalidation_0-logloss:0.336731\tvalidation_1-logloss:0.447639\n",
      "[58]\tvalidation_0-logloss:0.333749\tvalidation_1-logloss:0.448517\n",
      "[59]\tvalidation_0-logloss:0.332576\tvalidation_1-logloss:0.447504\n",
      "[60]\tvalidation_0-logloss:0.331023\tvalidation_1-logloss:0.446606\n",
      "[61]\tvalidation_0-logloss:0.330275\tvalidation_1-logloss:0.446004\n",
      "[62]\tvalidation_0-logloss:0.32882\tvalidation_1-logloss:0.446965\n",
      "[63]\tvalidation_0-logloss:0.327152\tvalidation_1-logloss:0.447373\n",
      "[64]\tvalidation_0-logloss:0.325654\tvalidation_1-logloss:0.447435\n",
      "[65]\tvalidation_0-logloss:0.324339\tvalidation_1-logloss:0.448843\n",
      "[66]\tvalidation_0-logloss:0.322764\tvalidation_1-logloss:0.448559\n",
      "[67]\tvalidation_0-logloss:0.321713\tvalidation_1-logloss:0.449127\n",
      "[68]\tvalidation_0-logloss:0.319164\tvalidation_1-logloss:0.44789\n",
      "[69]\tvalidation_0-logloss:0.318159\tvalidation_1-logloss:0.447726\n",
      "[70]\tvalidation_0-logloss:0.317532\tvalidation_1-logloss:0.447086\n",
      "[71]\tvalidation_0-logloss:0.316221\tvalidation_1-logloss:0.449536\n",
      "[72]\tvalidation_0-logloss:0.314822\tvalidation_1-logloss:0.450962\n",
      "[73]\tvalidation_0-logloss:0.313846\tvalidation_1-logloss:0.449785\n",
      "[74]\tvalidation_0-logloss:0.311294\tvalidation_1-logloss:0.449371\n",
      "[75]\tvalidation_0-logloss:0.310716\tvalidation_1-logloss:0.449621\n",
      "[76]\tvalidation_0-logloss:0.309564\tvalidation_1-logloss:0.451854\n",
      "[77]\tvalidation_0-logloss:0.307956\tvalidation_1-logloss:0.453366\n",
      "[78]\tvalidation_0-logloss:0.307438\tvalidation_1-logloss:0.453232\n",
      "[79]\tvalidation_0-logloss:0.306138\tvalidation_1-logloss:0.452862\n",
      "[80]\tvalidation_0-logloss:0.305262\tvalidation_1-logloss:0.454483\n",
      "[81]\tvalidation_0-logloss:0.30453\tvalidation_1-logloss:0.456231\n",
      "[82]\tvalidation_0-logloss:0.303705\tvalidation_1-logloss:0.455838\n",
      "[83]\tvalidation_0-logloss:0.301644\tvalidation_1-logloss:0.455338\n",
      "[84]\tvalidation_0-logloss:0.300501\tvalidation_1-logloss:0.456016\n",
      "[85]\tvalidation_0-logloss:0.298786\tvalidation_1-logloss:0.456005\n",
      "[86]\tvalidation_0-logloss:0.298327\tvalidation_1-logloss:0.455895\n",
      "[87]\tvalidation_0-logloss:0.296834\tvalidation_1-logloss:0.455871\n",
      "[88]\tvalidation_0-logloss:0.296405\tvalidation_1-logloss:0.455697\n",
      "[89]\tvalidation_0-logloss:0.295087\tvalidation_1-logloss:0.456738\n",
      "[90]\tvalidation_0-logloss:0.293947\tvalidation_1-logloss:0.459029\n",
      "[91]\tvalidation_0-logloss:0.292998\tvalidation_1-logloss:0.459576\n",
      "[92]\tvalidation_0-logloss:0.291958\tvalidation_1-logloss:0.460321\n",
      "[93]\tvalidation_0-logloss:0.290795\tvalidation_1-logloss:0.460445\n",
      "[94]\tvalidation_0-logloss:0.290228\tvalidation_1-logloss:0.460141\n",
      "[95]\tvalidation_0-logloss:0.289411\tvalidation_1-logloss:0.461353\n",
      "[96]\tvalidation_0-logloss:0.28859\tvalidation_1-logloss:0.461501\n",
      "[97]\tvalidation_0-logloss:0.286646\tvalidation_1-logloss:0.462179\n",
      "[98]\tvalidation_0-logloss:0.285721\tvalidation_1-logloss:0.462337\n",
      "[99]\tvalidation_0-logloss:0.284726\tvalidation_1-logloss:0.46308\n"
     ]
    },
    {
     "data": {
      "text/plain": [
       "XGBClassifier(base_score=0.5, booster='gbtree', colsample_bylevel=1,\n",
       "       colsample_bynode=1, colsample_bytree=1, gamma=0, learning_rate=0.1,\n",
       "       max_delta_step=0, max_depth=3, min_child_weight=1, missing=None,\n",
       "       n_estimators=100, n_jobs=1, nthread=None,\n",
       "       objective='binary:logistic', random_state=0, reg_alpha=0,\n",
       "       reg_lambda=1, scale_pos_weight=1, seed=None, silent=None,\n",
       "       subsample=1, verbosity=1)"
      ]
     },
     "execution_count": 37,
     "metadata": {},
     "output_type": "execute_result"
    }
   ],
   "source": [
    "model = XGBClassifier()\n",
    "model.fit(X_train,y_train,eval_metric=['logloss'],\n",
    "         eval_set = eval_set,verbose = True)"
   ]
  },
  {
   "cell_type": "code",
   "execution_count": 38,
   "metadata": {},
   "outputs": [],
   "source": [
    "# store sequence of loglosses"
   ]
  },
  {
   "cell_type": "code",
   "execution_count": 39,
   "metadata": {},
   "outputs": [
    {
     "data": {
      "text/plain": [
       "dict"
      ]
     },
     "execution_count": 39,
     "metadata": {},
     "output_type": "execute_result"
    }
   ],
   "source": [
    "results = model.evals_result()\n",
    "type(results)"
   ]
  },
  {
   "cell_type": "code",
   "execution_count": 40,
   "metadata": {},
   "outputs": [],
   "source": [
    "train_performance = results['validation_0']['logloss']\n",
    "test_performance = results['validation_1']['logloss']"
   ]
  },
  {
   "cell_type": "code",
   "execution_count": 41,
   "metadata": {},
   "outputs": [
    {
     "data": {
      "text/plain": [
       "[0.65788, 0.628762, 0.604005, 0.582058, 0.563951]"
      ]
     },
     "execution_count": 41,
     "metadata": {},
     "output_type": "execute_result"
    }
   ],
   "source": [
    "train_performance[:5]"
   ]
  },
  {
   "cell_type": "code",
   "execution_count": 42,
   "metadata": {},
   "outputs": [],
   "source": [
    "xaxis = range(100)"
   ]
  },
  {
   "cell_type": "code",
   "execution_count": 43,
   "metadata": {},
   "outputs": [],
   "source": [
    "# plot"
   ]
  },
  {
   "cell_type": "code",
   "execution_count": 44,
   "metadata": {},
   "outputs": [
    {
     "data": {
      "image/png": "[encoded data removed]",
      "text/plain": [
       "<Figure size 432x288 with 1 Axes>"
      ]
     },
     "metadata": {
      "needs_background": "light"
     },
     "output_type": "display_data"
    }
   ],
   "source": [
    "fig, ax = pyplot.subplots()\n",
    "ax.plot(xaxis,train_performance,label = 'Train')\n",
    "ax.plot(xaxis,test_performance,label = 'Trest')\n",
    "ax.legend()\n",
    "pyplot.xlabel('Number of trees')\n",
    "pyplot.ylabel('LogLoss')\n",
    "pyplot.grid()"
   ]
  },
  {
   "cell_type": "code",
   "execution_count": 45,
   "metadata": {},
   "outputs": [],
   "source": [
    "# may stop the learning somewhere around 40 boosted trees"
   ]
  },
  {
   "cell_type": "markdown",
   "metadata": {},
   "source": [
    "### show train and test error rates after each additional tree"
   ]
  },
  {
   "cell_type": "code",
   "execution_count": 46,
   "metadata": {},
   "outputs": [
    {
     "name": "stdout",
     "output_type": "stream",
     "text": [
      "[0]\tvalidation_0-error:0.22179\tvalidation_1-error:0.204724\n",
      "[1]\tvalidation_0-error:0.223735\tvalidation_1-error:0.216535\n",
      "[2]\tvalidation_0-error:0.217899\tvalidation_1-error:0.208661\n",
      "[3]\tvalidation_0-error:0.202335\tvalidation_1-error:0.216535\n",
      "[4]\tvalidation_0-error:0.208171\tvalidation_1-error:0.208661\n",
      "[5]\tvalidation_0-error:0.206226\tvalidation_1-error:0.208661\n",
      "[6]\tvalidation_0-error:0.200389\tvalidation_1-error:0.204724\n",
      "[7]\tvalidation_0-error:0.196498\tvalidation_1-error:0.200787\n",
      "[8]\tvalidation_0-error:0.198444\tvalidation_1-error:0.200787\n",
      "[9]\tvalidation_0-error:0.198444\tvalidation_1-error:0.200787\n",
      "[10]\tvalidation_0-error:0.190661\tvalidation_1-error:0.208661\n",
      "[11]\tvalidation_0-error:0.182879\tvalidation_1-error:0.208661\n",
      "[12]\tvalidation_0-error:0.180934\tvalidation_1-error:0.204724\n",
      "[13]\tvalidation_0-error:0.182879\tvalidation_1-error:0.208661\n",
      "[14]\tvalidation_0-error:0.178988\tvalidation_1-error:0.208661\n",
      "[15]\tvalidation_0-error:0.178988\tvalidation_1-error:0.212598\n",
      "[16]\tvalidation_0-error:0.173152\tvalidation_1-error:0.220472\n",
      "[17]\tvalidation_0-error:0.173152\tvalidation_1-error:0.212598\n",
      "[18]\tvalidation_0-error:0.167315\tvalidation_1-error:0.216535\n",
      "[19]\tvalidation_0-error:0.167315\tvalidation_1-error:0.212598\n",
      "[20]\tvalidation_0-error:0.163424\tvalidation_1-error:0.216535\n",
      "[21]\tvalidation_0-error:0.169261\tvalidation_1-error:0.212598\n",
      "[22]\tvalidation_0-error:0.159533\tvalidation_1-error:0.212598\n",
      "[23]\tvalidation_0-error:0.157588\tvalidation_1-error:0.212598\n",
      "[24]\tvalidation_0-error:0.159533\tvalidation_1-error:0.208661\n",
      "[25]\tvalidation_0-error:0.157588\tvalidation_1-error:0.204724\n",
      "[26]\tvalidation_0-error:0.157588\tvalidation_1-error:0.204724\n",
      "[27]\tvalidation_0-error:0.157588\tvalidation_1-error:0.204724\n",
      "[28]\tvalidation_0-error:0.155642\tvalidation_1-error:0.200787\n",
      "[29]\tvalidation_0-error:0.161479\tvalidation_1-error:0.200787\n",
      "[30]\tvalidation_0-error:0.159533\tvalidation_1-error:0.19685\n",
      "[31]\tvalidation_0-error:0.157588\tvalidation_1-error:0.19685\n",
      "[32]\tvalidation_0-error:0.149805\tvalidation_1-error:0.192913\n",
      "[33]\tvalidation_0-error:0.149805\tvalidation_1-error:0.19685\n",
      "[34]\tvalidation_0-error:0.149805\tvalidation_1-error:0.19685\n",
      "[35]\tvalidation_0-error:0.149805\tvalidation_1-error:0.192913\n",
      "[36]\tvalidation_0-error:0.151751\tvalidation_1-error:0.192913\n",
      "[37]\tvalidation_0-error:0.149805\tvalidation_1-error:0.192913\n",
      "[38]\tvalidation_0-error:0.14786\tvalidation_1-error:0.192913\n",
      "[39]\tvalidation_0-error:0.143969\tvalidation_1-error:0.188976\n",
      "[40]\tvalidation_0-error:0.145914\tvalidation_1-error:0.188976\n",
      "[41]\tvalidation_0-error:0.143969\tvalidation_1-error:0.19685\n",
      "[42]\tvalidation_0-error:0.145914\tvalidation_1-error:0.19685\n",
      "[43]\tvalidation_0-error:0.142023\tvalidation_1-error:0.19685\n",
      "[44]\tvalidation_0-error:0.140078\tvalidation_1-error:0.19685\n",
      "[45]\tvalidation_0-error:0.140078\tvalidation_1-error:0.19685\n",
      "[46]\tvalidation_0-error:0.140078\tvalidation_1-error:0.19685\n",
      "[47]\tvalidation_0-error:0.138132\tvalidation_1-error:0.19685\n",
      "[48]\tvalidation_0-error:0.136187\tvalidation_1-error:0.19685\n",
      "[49]\tvalidation_0-error:0.138132\tvalidation_1-error:0.19685\n",
      "[50]\tvalidation_0-error:0.136187\tvalidation_1-error:0.19685\n",
      "[51]\tvalidation_0-error:0.134241\tvalidation_1-error:0.204724\n",
      "[52]\tvalidation_0-error:0.134241\tvalidation_1-error:0.204724\n",
      "[53]\tvalidation_0-error:0.132296\tvalidation_1-error:0.200787\n",
      "[54]\tvalidation_0-error:0.132296\tvalidation_1-error:0.200787\n",
      "[55]\tvalidation_0-error:0.134241\tvalidation_1-error:0.19685\n",
      "[56]\tvalidation_0-error:0.132296\tvalidation_1-error:0.200787\n",
      "[57]\tvalidation_0-error:0.134241\tvalidation_1-error:0.200787\n",
      "[58]\tvalidation_0-error:0.132296\tvalidation_1-error:0.208661\n",
      "[59]\tvalidation_0-error:0.132296\tvalidation_1-error:0.208661\n",
      "[60]\tvalidation_0-error:0.13035\tvalidation_1-error:0.204724\n",
      "[61]\tvalidation_0-error:0.128405\tvalidation_1-error:0.204724\n",
      "[62]\tvalidation_0-error:0.126459\tvalidation_1-error:0.204724\n",
      "[63]\tvalidation_0-error:0.126459\tvalidation_1-error:0.19685\n",
      "[64]\tvalidation_0-error:0.122568\tvalidation_1-error:0.200787\n",
      "[65]\tvalidation_0-error:0.124514\tvalidation_1-error:0.200787\n",
      "[66]\tvalidation_0-error:0.124514\tvalidation_1-error:0.19685\n",
      "[67]\tvalidation_0-error:0.124514\tvalidation_1-error:0.19685\n",
      "[68]\tvalidation_0-error:0.128405\tvalidation_1-error:0.200787\n",
      "[69]\tvalidation_0-error:0.128405\tvalidation_1-error:0.200787\n",
      "[70]\tvalidation_0-error:0.128405\tvalidation_1-error:0.200787\n",
      "[71]\tvalidation_0-error:0.128405\tvalidation_1-error:0.200787\n",
      "[72]\tvalidation_0-error:0.128405\tvalidation_1-error:0.19685\n",
      "[73]\tvalidation_0-error:0.126459\tvalidation_1-error:0.19685\n",
      "[74]\tvalidation_0-error:0.126459\tvalidation_1-error:0.19685\n",
      "[75]\tvalidation_0-error:0.128405\tvalidation_1-error:0.19685\n",
      "[76]\tvalidation_0-error:0.124514\tvalidation_1-error:0.19685\n",
      "[77]\tvalidation_0-error:0.124514\tvalidation_1-error:0.204724\n",
      "[78]\tvalidation_0-error:0.124514\tvalidation_1-error:0.200787\n",
      "[79]\tvalidation_0-error:0.122568\tvalidation_1-error:0.204724\n",
      "[80]\tvalidation_0-error:0.124514\tvalidation_1-error:0.208661\n",
      "[81]\tvalidation_0-error:0.124514\tvalidation_1-error:0.208661\n",
      "[82]\tvalidation_0-error:0.122568\tvalidation_1-error:0.208661\n",
      "[83]\tvalidation_0-error:0.126459\tvalidation_1-error:0.208661\n",
      "[84]\tvalidation_0-error:0.122568\tvalidation_1-error:0.212598\n",
      "[85]\tvalidation_0-error:0.118677\tvalidation_1-error:0.204724\n",
      "[86]\tvalidation_0-error:0.118677\tvalidation_1-error:0.208661\n",
      "[87]\tvalidation_0-error:0.118677\tvalidation_1-error:0.204724\n",
      "[88]\tvalidation_0-error:0.114786\tvalidation_1-error:0.200787\n",
      "[89]\tvalidation_0-error:0.118677\tvalidation_1-error:0.204724\n",
      "[90]\tvalidation_0-error:0.120623\tvalidation_1-error:0.204724\n",
      "[91]\tvalidation_0-error:0.118677\tvalidation_1-error:0.204724\n",
      "[92]\tvalidation_0-error:0.114786\tvalidation_1-error:0.208661\n",
      "[93]\tvalidation_0-error:0.114786\tvalidation_1-error:0.208661\n",
      "[94]\tvalidation_0-error:0.114786\tvalidation_1-error:0.204724\n",
      "[95]\tvalidation_0-error:0.11284\tvalidation_1-error:0.208661\n",
      "[96]\tvalidation_0-error:0.116732\tvalidation_1-error:0.212598\n",
      "[97]\tvalidation_0-error:0.116732\tvalidation_1-error:0.212598\n",
      "[98]\tvalidation_0-error:0.108949\tvalidation_1-error:0.212598\n",
      "[99]\tvalidation_0-error:0.108949\tvalidation_1-error:0.216535\n"
     ]
    },
    {
     "data": {
      "text/plain": [
       "XGBClassifier(base_score=0.5, booster='gbtree', colsample_bylevel=1,\n",
       "       colsample_bynode=1, colsample_bytree=1, gamma=0, learning_rate=0.1,\n",
       "       max_delta_step=0, max_depth=3, min_child_weight=1, missing=None,\n",
       "       n_estimators=100, n_jobs=1, nthread=None,\n",
       "       objective='binary:logistic', random_state=0, reg_alpha=0,\n",
       "       reg_lambda=1, scale_pos_weight=1, seed=None, silent=None,\n",
       "       subsample=1, verbosity=1)"
      ]
     },
     "execution_count": 46,
     "metadata": {},
     "output_type": "execute_result"
    }
   ],
   "source": [
    "model = XGBClassifier()\n",
    "model.fit(X_train,y_train,eval_metric=['error'],\n",
    "         eval_set = eval_set,verbose = True)"
   ]
  },
  {
   "cell_type": "code",
   "execution_count": 47,
   "metadata": {},
   "outputs": [],
   "source": [
    "# store error rates"
   ]
  },
  {
   "cell_type": "code",
   "execution_count": 48,
   "metadata": {},
   "outputs": [],
   "source": [
    "results = model.evals_result()"
   ]
  },
  {
   "cell_type": "code",
   "execution_count": 49,
   "metadata": {},
   "outputs": [],
   "source": [
    "train_performance = results['validation_0']['error']\n",
    "test_performance = results['validation_1']['error']"
   ]
  },
  {
   "cell_type": "code",
   "execution_count": 50,
   "metadata": {},
   "outputs": [
    {
     "data": {
      "image/png": "[encoded data removed]",
      "text/plain": [
       "<Figure size 432x288 with 1 Axes>"
      ]
     },
     "metadata": {
      "needs_background": "light"
     },
     "output_type": "display_data"
    }
   ],
   "source": [
    "fig, ax = pyplot.subplots()\n",
    "ax.plot(xaxis,train_performance,label = 'Train')\n",
    "ax.plot(xaxis,test_performance,label = 'Trest')\n",
    "ax.legend()\n",
    "pyplot.xlabel('Number of trees')\n",
    "pyplot.ylabel('Classification error')\n",
    "pyplot.grid()"
   ]
  },
  {
   "cell_type": "code",
   "execution_count": 51,
   "metadata": {},
   "outputs": [],
   "source": [
    "# stop the learning at 40 trees"
   ]
  },
  {
   "cell_type": "markdown",
   "metadata": {},
   "source": [
    "## Early stopping"
   ]
  },
  {
   "cell_type": "code",
   "execution_count": 52,
   "metadata": {},
   "outputs": [],
   "source": [
    "# \"rounds\" is a window over which no (test set) improvement is observed"
   ]
  },
  {
   "cell_type": "code",
   "execution_count": 53,
   "metadata": {},
   "outputs": [
    {
     "name": "stdout",
     "output_type": "stream",
     "text": [
      "[0]\tvalidation_0-logloss:0.655346\n",
      "Will train until validation_0-logloss hasn't improved in 10 rounds.\n",
      "[1]\tvalidation_0-logloss:0.624793\n",
      "[2]\tvalidation_0-logloss:0.600539\n",
      "[3]\tvalidation_0-logloss:0.581588\n",
      "[4]\tvalidation_0-logloss:0.56345\n",
      "[5]\tvalidation_0-logloss:0.550083\n",
      "[6]\tvalidation_0-logloss:0.537342\n",
      "[7]\tvalidation_0-logloss:0.527344\n",
      "[8]\tvalidation_0-logloss:0.517816\n",
      "[9]\tvalidation_0-logloss:0.508975\n",
      "[10]\tvalidation_0-logloss:0.501102\n",
      "[11]\tvalidation_0-logloss:0.492523\n",
      "[12]\tvalidation_0-logloss:0.488099\n",
      "[13]\tvalidation_0-logloss:0.481677\n",
      "[14]\tvalidation_0-logloss:0.476013\n",
      "[15]\tvalidation_0-logloss:0.473317\n",
      "[16]\tvalidation_0-logloss:0.470953\n",
      "[17]\tvalidation_0-logloss:0.467015\n",
      "[18]\tvalidation_0-logloss:0.465018\n",
      "[19]\tvalidation_0-logloss:0.462345\n",
      "[20]\tvalidation_0-logloss:0.461446\n",
      "[21]\tvalidation_0-logloss:0.459869\n",
      "[22]\tvalidation_0-logloss:0.458658\n",
      "[23]\tvalidation_0-logloss:0.457215\n",
      "[24]\tvalidation_0-logloss:0.455284\n",
      "[25]\tvalidation_0-logloss:0.4556\n",
      "[26]\tvalidation_0-logloss:0.454292\n",
      "[27]\tvalidation_0-logloss:0.455537\n",
      "[28]\tvalidation_0-logloss:0.453503\n",
      "[29]\tvalidation_0-logloss:0.449959\n",
      "[30]\tvalidation_0-logloss:0.448591\n",
      "[31]\tvalidation_0-logloss:0.44806\n",
      "[32]\tvalidation_0-logloss:0.448243\n",
      "[33]\tvalidation_0-logloss:0.448426\n",
      "[34]\tvalidation_0-logloss:0.448667\n",
      "[35]\tvalidation_0-logloss:0.447633\n",
      "[36]\tvalidation_0-logloss:0.448056\n",
      "[37]\tvalidation_0-logloss:0.446788\n",
      "[38]\tvalidation_0-logloss:0.44667\n",
      "[39]\tvalidation_0-logloss:0.44641\n",
      "[40]\tvalidation_0-logloss:0.445328\n",
      "[41]\tvalidation_0-logloss:0.446546\n",
      "[42]\tvalidation_0-logloss:0.445638\n",
      "[43]\tvalidation_0-logloss:0.446262\n",
      "[44]\tvalidation_0-logloss:0.445565\n",
      "[45]\tvalidation_0-logloss:0.446788\n",
      "[46]\tvalidation_0-logloss:0.448495\n",
      "[47]\tvalidation_0-logloss:0.448358\n",
      "[48]\tvalidation_0-logloss:0.448197\n",
      "[49]\tvalidation_0-logloss:0.445837\n",
      "[50]\tvalidation_0-logloss:0.447654\n",
      "Stopping. Best iteration:\n",
      "[40]\tvalidation_0-logloss:0.445328\n",
      "\n"
     ]
    },
    {
     "data": {
      "text/plain": [
       "XGBClassifier(base_score=0.5, booster='gbtree', colsample_bylevel=1,\n",
       "       colsample_bynode=1, colsample_bytree=1, gamma=0, learning_rate=0.1,\n",
       "       max_delta_step=0, max_depth=3, min_child_weight=1, missing=None,\n",
       "       n_estimators=100, n_jobs=1, nthread=None,\n",
       "       objective='binary:logistic', random_state=0, reg_alpha=0,\n",
       "       reg_lambda=1, scale_pos_weight=1, seed=None, silent=None,\n",
       "       subsample=1, verbosity=1)"
      ]
     },
     "execution_count": 53,
     "metadata": {},
     "output_type": "execute_result"
    }
   ],
   "source": [
    "model = XGBClassifier()\n",
    "eval_set = [(X_test,y_test)]\n",
    "model.fit(X_train,y_train,early_stopping_rounds = 10,\n",
    "         eval_metric ='logloss',\n",
    "         eval_set = eval_set,verbose = True)"
   ]
  },
  {
   "cell_type": "code",
   "execution_count": 54,
   "metadata": {},
   "outputs": [],
   "source": [
    "# no clear improvement between 36th and 45th tree"
   ]
  },
  {
   "cell_type": "code",
   "execution_count": 55,
   "metadata": {},
   "outputs": [],
   "source": [
    "# it is suggested to stop training at 40th tree"
   ]
  },
  {
   "cell_type": "markdown",
   "metadata": {},
   "source": [
    "### Tune the number of trees -Kfold cross validation"
   ]
  },
  {
   "cell_type": "code",
   "execution_count": 56,
   "metadata": {},
   "outputs": [],
   "source": [
    "from sklearn.model_selection import GridSearchCV\n",
    "from sklearn.model_selection import StratifiedKFold"
   ]
  },
  {
   "cell_type": "code",
   "execution_count": 57,
   "metadata": {},
   "outputs": [],
   "source": [
    "# grid search on the number of trees from 20 to 80"
   ]
  },
  {
   "cell_type": "code",
   "execution_count": 58,
   "metadata": {},
   "outputs": [],
   "source": [
    "n_estimators = range(20,80,10)"
   ]
  },
  {
   "cell_type": "code",
   "execution_count": 59,
   "metadata": {},
   "outputs": [],
   "source": [
    "model = XGBClassifier()"
   ]
  },
  {
   "cell_type": "code",
   "execution_count": 60,
   "metadata": {},
   "outputs": [],
   "source": [
    "# n_estimators is defined in the GridSearchCV (not in XGBClassifier)"
   ]
  },
  {
   "cell_type": "code",
   "execution_count": 61,
   "metadata": {},
   "outputs": [],
   "source": [
    "param_grid = dict(n_estimators = n_estimators)"
   ]
  },
  {
   "cell_type": "code",
   "execution_count": 62,
   "metadata": {},
   "outputs": [],
   "source": [
    "# GridSearchCV uses neg_log_loss, XGBClassifier().fit() uses logloss"
   ]
  },
  {
   "cell_type": "code",
   "execution_count": 63,
   "metadata": {},
   "outputs": [],
   "source": [
    "kfold = StratifiedKFold(n_splits = 10, shuffle = True, random_state =1)\n",
    "grid_search = GridSearchCV(model,param_grid,scoring ='neg_log_loss',cv=kfold)\n",
    "grid_result = grid_search.fit(X,Y)"
   ]
  },
  {
   "cell_type": "code",
   "execution_count": 64,
   "metadata": {},
   "outputs": [],
   "source": [
    "# results"
   ]
  },
  {
   "cell_type": "code",
   "execution_count": 65,
   "metadata": {
    "scrolled": true
   },
   "outputs": [
    {
     "name": "stdout",
     "output_type": "stream",
     "text": [
      "Best: -0.480157 using {'n_estimators': 50}\n"
     ]
    }
   ],
   "source": [
    "print('Best: %f using %s' % (grid_result.best_score_, grid_result.best_params_))"
   ]
  },
  {
   "cell_type": "code",
   "execution_count": 66,
   "metadata": {},
   "outputs": [],
   "source": [
    "means = grid_result.cv_results_['mean_test_score']\n",
    "n_trees = list(n_estimators)"
   ]
  },
  {
   "cell_type": "code",
   "execution_count": 67,
   "metadata": {},
   "outputs": [
    {
     "data": {
      "text/html": [
       "<div>\n",
       "<style scoped>\n",
       "    .dataframe tbody tr th:only-of-type {\n",
       "        vertical-align: middle;\n",
       "    }\n",
       "\n",
       "    .dataframe tbody tr th {\n",
       "        vertical-align: top;\n",
       "    }\n",
       "\n",
       "    .dataframe thead th {\n",
       "        text-align: right;\n",
       "    }\n",
       "</style>\n",
       "<table border=\"1\" class=\"dataframe\">\n",
       "  <thead>\n",
       "    <tr style=\"text-align: right;\">\n",
       "      <th></th>\n",
       "      <th>params</th>\n",
       "      <th>mean test score</th>\n",
       "    </tr>\n",
       "  </thead>\n",
       "  <tbody>\n",
       "    <tr>\n",
       "      <th>0</th>\n",
       "      <td>20</td>\n",
       "      <td>-0.493858</td>\n",
       "    </tr>\n",
       "    <tr>\n",
       "      <th>1</th>\n",
       "      <td>30</td>\n",
       "      <td>-0.483538</td>\n",
       "    </tr>\n",
       "    <tr>\n",
       "      <th>2</th>\n",
       "      <td>40</td>\n",
       "      <td>-0.480428</td>\n",
       "    </tr>\n",
       "    <tr>\n",
       "      <th>3</th>\n",
       "      <td>50</td>\n",
       "      <td>-0.480157</td>\n",
       "    </tr>\n",
       "    <tr>\n",
       "      <th>4</th>\n",
       "      <td>60</td>\n",
       "      <td>-0.482531</td>\n",
       "    </tr>\n",
       "    <tr>\n",
       "      <th>5</th>\n",
       "      <td>70</td>\n",
       "      <td>-0.484747</td>\n",
       "    </tr>\n",
       "  </tbody>\n",
       "</table>\n",
       "</div>"
      ],
      "text/plain": [
       "   params  mean test score\n",
       "0      20        -0.493858\n",
       "1      30        -0.483538\n",
       "2      40        -0.480428\n",
       "3      50        -0.480157\n",
       "4      60        -0.482531\n",
       "5      70        -0.484747"
      ]
     },
     "execution_count": 67,
     "metadata": {},
     "output_type": "execute_result"
    }
   ],
   "source": [
    "df = pd.DataFrame()\n",
    "df['params'] = n_trees\n",
    "df['mean test score'] = means\n",
    "df"
   ]
  },
  {
   "cell_type": "code",
   "execution_count": 68,
   "metadata": {},
   "outputs": [],
   "source": [
    "# plot"
   ]
  },
  {
   "cell_type": "code",
   "execution_count": 70,
   "metadata": {},
   "outputs": [
    {
     "data": {
      "image/png": "[encoded data removed]",
      "text/plain": [
       "<Figure size 432x288 with 1 Axes>"
      ]
     },
     "metadata": {
      "needs_background": "light"
     },
     "output_type": "display_data"
    }
   ],
   "source": [
    "pyplot.plot(n_estimators,means)\n",
    "pyplot.xlabel('n_estimators')\n",
    "pyplot.ylabel('Negative of Log loss')\n",
    "pyplot.grid()"
   ]
  },
  {
   "cell_type": "code",
   "execution_count": 71,
   "metadata": {},
   "outputs": [],
   "source": [
    "# best number of trees is 50"
   ]
  },
  {
   "cell_type": "markdown",
   "metadata": {},
   "source": [
    "## Tuning Tree depth -Kfold cross validation"
   ]
  },
  {
   "cell_type": "code",
   "execution_count": 72,
   "metadata": {},
   "outputs": [],
   "source": [
    "# try depth from 1 to 10"
   ]
  },
  {
   "cell_type": "code",
   "execution_count": 73,
   "metadata": {},
   "outputs": [],
   "source": [
    "depth_values = range(1,11,2)"
   ]
  },
  {
   "cell_type": "code",
   "execution_count": 74,
   "metadata": {},
   "outputs": [],
   "source": [
    "param_grid = dict(max_depth = depth_values)"
   ]
  },
  {
   "cell_type": "code",
   "execution_count": 75,
   "metadata": {},
   "outputs": [],
   "source": [
    "model = XGBClassifier()"
   ]
  },
  {
   "cell_type": "code",
   "execution_count": 76,
   "metadata": {},
   "outputs": [],
   "source": [
    "kfold = StratifiedKFold(n_splits = 10, shuffle = True, random_state =1)\n",
    "grid_search = GridSearchCV(model,param_grid,scoring ='neg_log_loss',cv=kfold)\n",
    "grid_result = grid_search.fit(X,Y)"
   ]
  },
  {
   "cell_type": "code",
   "execution_count": 77,
   "metadata": {},
   "outputs": [
    {
     "name": "stdout",
     "output_type": "stream",
     "text": [
      "Best: -0.475544 using {'max_depth': 1}\n"
     ]
    }
   ],
   "source": [
    "print('Best: %f using %s' % (grid_result.best_score_, grid_result.best_params_))"
   ]
  },
  {
   "cell_type": "code",
   "execution_count": 79,
   "metadata": {},
   "outputs": [],
   "source": [
    "means = grid_result.cv_results_['mean_test_score']"
   ]
  },
  {
   "cell_type": "code",
   "execution_count": 80,
   "metadata": {},
   "outputs": [
    {
     "data": {
      "text/html": [
       "<div>\n",
       "<style scoped>\n",
       "    .dataframe tbody tr th:only-of-type {\n",
       "        vertical-align: middle;\n",
       "    }\n",
       "\n",
       "    .dataframe tbody tr th {\n",
       "        vertical-align: top;\n",
       "    }\n",
       "\n",
       "    .dataframe thead th {\n",
       "        text-align: right;\n",
       "    }\n",
       "</style>\n",
       "<table border=\"1\" class=\"dataframe\">\n",
       "  <thead>\n",
       "    <tr style=\"text-align: right;\">\n",
       "      <th></th>\n",
       "      <th>params</th>\n",
       "      <th>mean test score</th>\n",
       "    </tr>\n",
       "  </thead>\n",
       "  <tbody>\n",
       "    <tr>\n",
       "      <th>0</th>\n",
       "      <td>1</td>\n",
       "      <td>-0.475544</td>\n",
       "    </tr>\n",
       "    <tr>\n",
       "      <th>1</th>\n",
       "      <td>3</td>\n",
       "      <td>-0.489764</td>\n",
       "    </tr>\n",
       "    <tr>\n",
       "      <th>2</th>\n",
       "      <td>5</td>\n",
       "      <td>-0.536786</td>\n",
       "    </tr>\n",
       "    <tr>\n",
       "      <th>3</th>\n",
       "      <td>7</td>\n",
       "      <td>-0.579517</td>\n",
       "    </tr>\n",
       "    <tr>\n",
       "      <th>4</th>\n",
       "      <td>9</td>\n",
       "      <td>-0.595122</td>\n",
       "    </tr>\n",
       "  </tbody>\n",
       "</table>\n",
       "</div>"
      ],
      "text/plain": [
       "   params  mean test score\n",
       "0       1        -0.475544\n",
       "1       3        -0.489764\n",
       "2       5        -0.536786\n",
       "3       7        -0.579517\n",
       "4       9        -0.595122"
      ]
     },
     "execution_count": 80,
     "metadata": {},
     "output_type": "execute_result"
    }
   ],
   "source": [
    "df = pd.DataFrame()\n",
    "df['params'] = depth_values\n",
    "df['mean test score'] = means\n",
    "df"
   ]
  },
  {
   "cell_type": "code",
   "execution_count": 81,
   "metadata": {},
   "outputs": [
    {
     "data": {
      "image/png": "[encoded data removed]",
      "text/plain": [
       "<Figure size 432x288 with 1 Axes>"
      ]
     },
     "metadata": {
      "needs_background": "light"
     },
     "output_type": "display_data"
    }
   ],
   "source": [
    "pyplot.plot(depth_values,means)\n",
    "pyplot.xlabel('max_depth')\n",
    "pyplot.ylabel('Negative of Log loss')\n",
    "pyplot.grid()"
   ]
  },
  {
   "cell_type": "code",
   "execution_count": null,
   "metadata": {},
   "outputs": [],
   "source": [
    "# best depth is 1 level (a stump)"
   ]
  },
  {
   "cell_type": "markdown",
   "metadata": {},
   "source": [
    "## Tune the number and depth of trees"
   ]
  },
  {
   "cell_type": "code",
   "execution_count": 82,
   "metadata": {},
   "outputs": [],
   "source": [
    "n_estimators = range(30,90,10)\n",
    "depth_values = [1,2,3]"
   ]
  },
  {
   "cell_type": "code",
   "execution_count": 83,
   "metadata": {},
   "outputs": [],
   "source": [
    "param_grid = dict(max_depth=depth_values,n_estimators = n_estimators)\n",
    "kfold = StratifiedKFold(n_splits =10, shuffle=True, random_state = 1)"
   ]
  },
  {
   "cell_type": "code",
   "execution_count": 84,
   "metadata": {},
   "outputs": [],
   "source": [
    "model = XGBClassifier()\n",
    "grid_search = GridSearchCV(model,param_grid,scoring = 'neg_log_loss',cv=kfold)\n",
    "grid_result = grid_search.fit(X,Y)"
   ]
  },
  {
   "cell_type": "code",
   "execution_count": 85,
   "metadata": {},
   "outputs": [
    {
     "name": "stdout",
     "output_type": "stream",
     "text": [
      "Best: -0.470468 using {'max_depth': 2, 'n_estimators': 70}\n"
     ]
    }
   ],
   "source": [
    "print('Best: %f using %s' % (grid_result.best_score_, grid_result.best_params_))"
   ]
  },
  {
   "cell_type": "code",
   "execution_count": 86,
   "metadata": {},
   "outputs": [],
   "source": [
    "means = grid_result.cv_results_['mean_test_score']\n",
    "params = grid_result.cv_results_['params']"
   ]
  },
  {
   "cell_type": "code",
   "execution_count": 87,
   "metadata": {},
   "outputs": [
    {
     "data": {
      "text/html": [
       "<div>\n",
       "<style scoped>\n",
       "    .dataframe tbody tr th:only-of-type {\n",
       "        vertical-align: middle;\n",
       "    }\n",
       "\n",
       "    .dataframe tbody tr th {\n",
       "        vertical-align: top;\n",
       "    }\n",
       "\n",
       "    .dataframe thead th {\n",
       "        text-align: right;\n",
       "    }\n",
       "</style>\n",
       "<table border=\"1\" class=\"dataframe\">\n",
       "  <thead>\n",
       "    <tr style=\"text-align: right;\">\n",
       "      <th></th>\n",
       "      <th>params</th>\n",
       "      <th>mean test score</th>\n",
       "    </tr>\n",
       "  </thead>\n",
       "  <tbody>\n",
       "    <tr>\n",
       "      <th>0</th>\n",
       "      <td>{'max_depth': 1, 'n_estimators': 30}</td>\n",
       "      <td>-0.509009</td>\n",
       "    </tr>\n",
       "    <tr>\n",
       "      <th>1</th>\n",
       "      <td>{'max_depth': 1, 'n_estimators': 40}</td>\n",
       "      <td>-0.498496</td>\n",
       "    </tr>\n",
       "    <tr>\n",
       "      <th>2</th>\n",
       "      <td>{'max_depth': 1, 'n_estimators': 50}</td>\n",
       "      <td>-0.488811</td>\n",
       "    </tr>\n",
       "    <tr>\n",
       "      <th>3</th>\n",
       "      <td>{'max_depth': 1, 'n_estimators': 60}</td>\n",
       "      <td>-0.483079</td>\n",
       "    </tr>\n",
       "    <tr>\n",
       "      <th>4</th>\n",
       "      <td>{'max_depth': 1, 'n_estimators': 70}</td>\n",
       "      <td>-0.480284</td>\n",
       "    </tr>\n",
       "    <tr>\n",
       "      <th>5</th>\n",
       "      <td>{'max_depth': 1, 'n_estimators': 80}</td>\n",
       "      <td>-0.478670</td>\n",
       "    </tr>\n",
       "    <tr>\n",
       "      <th>6</th>\n",
       "      <td>{'max_depth': 2, 'n_estimators': 30}</td>\n",
       "      <td>-0.485470</td>\n",
       "    </tr>\n",
       "    <tr>\n",
       "      <th>7</th>\n",
       "      <td>{'max_depth': 2, 'n_estimators': 40}</td>\n",
       "      <td>-0.479437</td>\n",
       "    </tr>\n",
       "    <tr>\n",
       "      <th>8</th>\n",
       "      <td>{'max_depth': 2, 'n_estimators': 50}</td>\n",
       "      <td>-0.475962</td>\n",
       "    </tr>\n",
       "    <tr>\n",
       "      <th>9</th>\n",
       "      <td>{'max_depth': 2, 'n_estimators': 60}</td>\n",
       "      <td>-0.474063</td>\n",
       "    </tr>\n",
       "    <tr>\n",
       "      <th>10</th>\n",
       "      <td>{'max_depth': 2, 'n_estimators': 70}</td>\n",
       "      <td>-0.470468</td>\n",
       "    </tr>\n",
       "    <tr>\n",
       "      <th>11</th>\n",
       "      <td>{'max_depth': 2, 'n_estimators': 80}</td>\n",
       "      <td>-0.471607</td>\n",
       "    </tr>\n",
       "    <tr>\n",
       "      <th>12</th>\n",
       "      <td>{'max_depth': 3, 'n_estimators': 30}</td>\n",
       "      <td>-0.483538</td>\n",
       "    </tr>\n",
       "    <tr>\n",
       "      <th>13</th>\n",
       "      <td>{'max_depth': 3, 'n_estimators': 40}</td>\n",
       "      <td>-0.480428</td>\n",
       "    </tr>\n",
       "    <tr>\n",
       "      <th>14</th>\n",
       "      <td>{'max_depth': 3, 'n_estimators': 50}</td>\n",
       "      <td>-0.480157</td>\n",
       "    </tr>\n",
       "    <tr>\n",
       "      <th>15</th>\n",
       "      <td>{'max_depth': 3, 'n_estimators': 60}</td>\n",
       "      <td>-0.482531</td>\n",
       "    </tr>\n",
       "    <tr>\n",
       "      <th>16</th>\n",
       "      <td>{'max_depth': 3, 'n_estimators': 70}</td>\n",
       "      <td>-0.484747</td>\n",
       "    </tr>\n",
       "    <tr>\n",
       "      <th>17</th>\n",
       "      <td>{'max_depth': 3, 'n_estimators': 80}</td>\n",
       "      <td>-0.486908</td>\n",
       "    </tr>\n",
       "  </tbody>\n",
       "</table>\n",
       "</div>"
      ],
      "text/plain": [
       "                                  params  mean test score\n",
       "0   {'max_depth': 1, 'n_estimators': 30}        -0.509009\n",
       "1   {'max_depth': 1, 'n_estimators': 40}        -0.498496\n",
       "2   {'max_depth': 1, 'n_estimators': 50}        -0.488811\n",
       "3   {'max_depth': 1, 'n_estimators': 60}        -0.483079\n",
       "4   {'max_depth': 1, 'n_estimators': 70}        -0.480284\n",
       "5   {'max_depth': 1, 'n_estimators': 80}        -0.478670\n",
       "6   {'max_depth': 2, 'n_estimators': 30}        -0.485470\n",
       "7   {'max_depth': 2, 'n_estimators': 40}        -0.479437\n",
       "8   {'max_depth': 2, 'n_estimators': 50}        -0.475962\n",
       "9   {'max_depth': 2, 'n_estimators': 60}        -0.474063\n",
       "10  {'max_depth': 2, 'n_estimators': 70}        -0.470468\n",
       "11  {'max_depth': 2, 'n_estimators': 80}        -0.471607\n",
       "12  {'max_depth': 3, 'n_estimators': 30}        -0.483538\n",
       "13  {'max_depth': 3, 'n_estimators': 40}        -0.480428\n",
       "14  {'max_depth': 3, 'n_estimators': 50}        -0.480157\n",
       "15  {'max_depth': 3, 'n_estimators': 60}        -0.482531\n",
       "16  {'max_depth': 3, 'n_estimators': 70}        -0.484747\n",
       "17  {'max_depth': 3, 'n_estimators': 80}        -0.486908"
      ]
     },
     "execution_count": 87,
     "metadata": {},
     "output_type": "execute_result"
    }
   ],
   "source": [
    "df = pd.DataFrame()\n",
    "df['params'] = params\n",
    "df['mean test score'] = means\n",
    "df"
   ]
  },
  {
   "cell_type": "code",
   "execution_count": 88,
   "metadata": {},
   "outputs": [],
   "source": [
    "# params is list, each element in the list is a dictionary"
   ]
  },
  {
   "cell_type": "code",
   "execution_count": 89,
   "metadata": {},
   "outputs": [
    {
     "data": {
      "text/html": [
       "<div>\n",
       "<style scoped>\n",
       "    .dataframe tbody tr th:only-of-type {\n",
       "        vertical-align: middle;\n",
       "    }\n",
       "\n",
       "    .dataframe tbody tr th {\n",
       "        vertical-align: top;\n",
       "    }\n",
       "\n",
       "    .dataframe thead th {\n",
       "        text-align: right;\n",
       "    }\n",
       "</style>\n",
       "<table border=\"1\" class=\"dataframe\">\n",
       "  <thead>\n",
       "    <tr style=\"text-align: right;\">\n",
       "      <th></th>\n",
       "      <th>30</th>\n",
       "      <th>40</th>\n",
       "      <th>50</th>\n",
       "      <th>60</th>\n",
       "      <th>70</th>\n",
       "      <th>80</th>\n",
       "    </tr>\n",
       "  </thead>\n",
       "  <tbody>\n",
       "    <tr>\n",
       "      <th>1</th>\n",
       "      <td>-0.509009</td>\n",
       "      <td>-0.498496</td>\n",
       "      <td>-0.488811</td>\n",
       "      <td>-0.483079</td>\n",
       "      <td>-0.480284</td>\n",
       "      <td>-0.478670</td>\n",
       "    </tr>\n",
       "    <tr>\n",
       "      <th>2</th>\n",
       "      <td>-0.485470</td>\n",
       "      <td>-0.479437</td>\n",
       "      <td>-0.475962</td>\n",
       "      <td>-0.474063</td>\n",
       "      <td>-0.470468</td>\n",
       "      <td>-0.471607</td>\n",
       "    </tr>\n",
       "    <tr>\n",
       "      <th>3</th>\n",
       "      <td>-0.483538</td>\n",
       "      <td>-0.480428</td>\n",
       "      <td>-0.480157</td>\n",
       "      <td>-0.482531</td>\n",
       "      <td>-0.484747</td>\n",
       "      <td>-0.486908</td>\n",
       "    </tr>\n",
       "  </tbody>\n",
       "</table>\n",
       "</div>"
      ],
      "text/plain": [
       "         30        40        50        60        70        80\n",
       "1 -0.509009 -0.498496 -0.488811 -0.483079 -0.480284 -0.478670\n",
       "2 -0.485470 -0.479437 -0.475962 -0.474063 -0.470468 -0.471607\n",
       "3 -0.483538 -0.480428 -0.480157 -0.482531 -0.484747 -0.486908"
      ]
     },
     "execution_count": 89,
     "metadata": {},
     "output_type": "execute_result"
    }
   ],
   "source": [
    "scores = np.array(means).reshape(3,6)\n",
    "df = pd.DataFrame(scores)\n",
    "df.columns = n_estimators\n",
    "df.index = depth_values\n",
    "df"
   ]
  },
  {
   "cell_type": "code",
   "execution_count": 90,
   "metadata": {},
   "outputs": [
    {
     "data": {
      "text/plain": [
       "array([-0.48546955, -0.47943711, -0.4759618 , -0.47406253, -0.47046804,\n",
       "       -0.47160681])"
      ]
     },
     "execution_count": 90,
     "metadata": {},
     "output_type": "execute_result"
    }
   ],
   "source": [
    "scores[1]"
   ]
  },
  {
   "cell_type": "code",
   "execution_count": 91,
   "metadata": {},
   "outputs": [],
   "source": [
    "# scores[i] is the ith row"
   ]
  },
  {
   "cell_type": "code",
   "execution_count": 92,
   "metadata": {},
   "outputs": [
    {
     "data": {
      "image/png": "[encoded data removed]",
      "text/plain": [
       "<Figure size 432x288 with 1 Axes>"
      ]
     },
     "metadata": {
      "needs_background": "light"
     },
     "output_type": "display_data"
    }
   ],
   "source": [
    "for i, value in enumerate(depth_values):\n",
    "    pyplot.plot(n_estimators,scores[i],label = 'depth:' + str(value))\n",
    "pyplot.legend()\n",
    "pyplot.xlabel('number of trees')\n",
    "pyplot.ylabel('neg log loss')\n",
    "pyplot.grid()"
   ]
  },
  {
   "cell_type": "code",
   "execution_count": 93,
   "metadata": {},
   "outputs": [],
   "source": [
    "# best tuning: depth 2 with 70 trees"
   ]
  },
  {
   "cell_type": "markdown",
   "metadata": {},
   "source": [
    "## Tuning the learning rate and number of trees -Kfold cross validation"
   ]
  },
  {
   "cell_type": "code",
   "execution_count": 94,
   "metadata": {},
   "outputs": [],
   "source": [
    "n_estimators = range(30,90,10)\n",
    "rates = [0.01,0.1,0.2]"
   ]
  },
  {
   "cell_type": "code",
   "execution_count": 95,
   "metadata": {},
   "outputs": [],
   "source": [
    "param_grid = dict(learning_rate = rates, n_estimators = n_estimators)\n",
    "kfold = StratifiedKFold(n_splits=10,shuffle = True, random_state = 1)"
   ]
  },
  {
   "cell_type": "code",
   "execution_count": 96,
   "metadata": {},
   "outputs": [],
   "source": [
    "model = XGBClassifier()\n",
    "grid_search = GridSearchCV(model,param_grid,scoring = 'neg_log_loss',cv=kfold)\n",
    "grid_result = grid_search.fit(X,Y)"
   ]
  },
  {
   "cell_type": "code",
   "execution_count": 97,
   "metadata": {},
   "outputs": [],
   "source": [
    "means = grid_result.cv_results_['mean_test_score']\n",
    "params = grid_result.cv_results_['params']"
   ]
  },
  {
   "cell_type": "code",
   "execution_count": 98,
   "metadata": {},
   "outputs": [],
   "source": [
    "# plot"
   ]
  },
  {
   "cell_type": "code",
   "execution_count": 99,
   "metadata": {},
   "outputs": [
    {
     "data": {
      "text/plain": [
       "array([[-0.61264947, -0.5941081 , -0.57870002, -0.56557359, -0.55495154,\n",
       "        -0.5460606 ],\n",
       "       [-0.48353789, -0.48042832, -0.4801573 , -0.48253055, -0.48474694,\n",
       "        -0.48690844],\n",
       "       [-0.48379849, -0.49033485, -0.49470035, -0.50254938, -0.51195319,\n",
       "        -0.52010073]])"
      ]
     },
     "execution_count": 99,
     "metadata": {},
     "output_type": "execute_result"
    }
   ],
   "source": [
    "scores = np.array(means).reshape(3,6)\n",
    "scores"
   ]
  },
  {
   "cell_type": "code",
   "execution_count": 100,
   "metadata": {},
   "outputs": [
    {
     "data": {
      "image/png": "[encoded data removed]",
      "text/plain": [
       "<Figure size 432x288 with 1 Axes>"
      ]
     },
     "metadata": {
      "needs_background": "light"
     },
     "output_type": "display_data"
    }
   ],
   "source": [
    "for i, value in enumerate(rates):\n",
    "    pyplot.plot(n_estimators,scores[i],label='learning_rate: '+str(value))\n",
    "pyplot.legend()\n",
    "pyplot.xlabel('number of trees')\n",
    "pyplot.ylabel('neg log loss')\n",
    "pyplot.grid()"
   ]
  },
  {
   "cell_type": "code",
   "execution_count": 101,
   "metadata": {},
   "outputs": [],
   "source": [
    "# best learning rate is 0.1 for all number of trees"
   ]
  },
  {
   "cell_type": "code",
   "execution_count": 102,
   "metadata": {},
   "outputs": [],
   "source": [
    "# best number of trees is 40 and 50"
   ]
  },
  {
   "cell_type": "code",
   "execution_count": null,
   "metadata": {},
   "outputs": [],
   "source": []
  }
 ],
 "metadata": {
  "kernelspec": {
   "display_name": "Python 3",
   "language": "python",
   "name": "python3"
  },
  "language_info": {
   "codemirror_mode": {
    "name": "ipython",
    "version": 3
   },
   "file_extension": ".py",
   "mimetype": "text/x-python",
   "name": "python",
   "nbconvert_exporter": "python",
   "pygments_lexer": "ipython3",
   "version": "3.7.4"
  }
 },
 "nbformat": 4,
 "nbformat_minor": 2
}
