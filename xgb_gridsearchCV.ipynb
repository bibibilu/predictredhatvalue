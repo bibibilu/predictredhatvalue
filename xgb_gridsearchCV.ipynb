{
 "cells": [
  {
   "cell_type": "code",
   "execution_count": 1,
   "metadata": {},
   "outputs": [],
   "source": [
    "import pandas as pd\n",
    "from pandas import Series,DataFrame\n",
    "import numpy as np\n",
    "import matplotlib.pyplot as plt\n",
    "import seaborn as sns\n",
    "sns.set_style('whitegrid')\n",
    "%matplotlib inline\n",
    "from sklearn.metrics import roc_auc_score, auc"
   ]
  },
  {
   "cell_type": "code",
   "execution_count": 2,
   "metadata": {},
   "outputs": [],
   "source": [
    "from sklearn.svm import SVC, LinearSVC\n",
    "from sklearn.ensemble import RandomForestClassifier\n",
    "from xgboost import XGBClassifier\n",
    "import xgboost as xgb\n",
    "from sklearn.tree import DecisionTreeClassifier\n",
    "from sklearn.linear_model import LogisticRegression\n",
    "from sklearn.naive_bayes import BernoulliNB"
   ]
  },
  {
   "cell_type": "code",
   "execution_count": 57,
   "metadata": {},
   "outputs": [],
   "source": [
    "from sklearn.model_selection import train_test_split\n",
    "from sklearn.model_selection import cross_val_score\n",
    "from sklearn.model_selection import GridSearchCV\n",
    "from sklearn.model_selection import StratifiedKFold\n",
    "from sklearn.preprocessing import PolynomialFeatures\n",
    "from sklearn.model_selection import KFold\n",
    "from sklearn.pipeline import Pipeline\n",
    "from sklearn.preprocessing import StandardScaler\n",
    "from sklearn.feature_selection import SelectFromModel\n",
    "from sklearn.preprocessing import LabelEncoder, OneHotEncoder\n",
    "from sklearn.preprocessing import MinMaxScaler\n",
    "from operator import itemgetter"
   ]
  },
  {
   "cell_type": "code",
   "execution_count": 4,
   "metadata": {},
   "outputs": [],
   "source": [
    "act_train_df = pd.read_csv('./red-hat_data/act_train.csv', dtype={'people_id': np.str, 'activity_id': np.str, 'outcome': np.int8}, parse_dates=['date'])\n",
    "act_test_df = pd.read_csv('./red-hat_data/act_test.csv', dtype={'people_id': np.str, 'activity_id': np.str}, parse_dates=['date'])\n",
    "ppl_df = pd.read_csv('./red-hat_data/people.csv', dtype={'people_id': np.str, 'activity_id': np.str, 'char_38': np.int32}, parse_dates=['date'])"
   ]
  },
  {
   "cell_type": "code",
   "execution_count": 5,
   "metadata": {},
   "outputs": [],
   "source": [
    "test_id = act_test_df.activity_id"
   ]
  },
  {
   "cell_type": "code",
   "execution_count": 6,
   "metadata": {},
   "outputs": [],
   "source": [
    "train_df = pd.read_csv('./processing_data/train.csv')\n",
    "test_df = pd.read_csv('./processing_data/test.csv', )"
   ]
  },
  {
   "cell_type": "code",
   "execution_count": 9,
   "metadata": {},
   "outputs": [],
   "source": [
    "scaler = MinMaxScaler()"
   ]
  },
  {
   "cell_type": "code",
   "execution_count": 19,
   "metadata": {},
   "outputs": [],
   "source": [
    "for df in [train_df, test_df]:\n",
    "    df['char_38'] = scaler.fit_transform(np.array(df['char_38']).reshape(-1,1))"
   ]
  },
  {
   "cell_type": "code",
   "execution_count": 22,
   "metadata": {},
   "outputs": [],
   "source": [
    "X_train = train_df.drop(['outcome'], axis=1)\n",
    "Y_train = train_df['outcome']"
   ]
  },
  {
   "cell_type": "code",
   "execution_count": 23,
   "metadata": {},
   "outputs": [],
   "source": [
    "whole_df = pd.concat([X_train,test_df],ignore_index=True,sort=False)"
   ]
  },
  {
   "cell_type": "code",
   "execution_count": 26,
   "metadata": {},
   "outputs": [],
   "source": [
    "objective_var=['group_1','activity_category','char_1_x','char_2_x','char_3_x','char_4_x','char_5_x','char_6_x','char_7_x','char_8_x','char_9_x','char_10_x','char_1_y','char_2_y','char_3_y','char_4_y','char_5_y','char_6_y','char_7_y','char_8_y','char_9_y']"
   ]
  },
  {
   "cell_type": "code",
   "execution_count": 24,
   "metadata": {},
   "outputs": [],
   "source": [
    "def reduce_dim(df, col, toreplace):\n",
    "    for index,i in df[col].duplicated(keep=False).iteritems():\n",
    "        if i==False:\n",
    "            df.set_value(index,col,toreplace)\n",
    "    return df"
   ]
  },
  {
   "cell_type": "code",
   "execution_count": 27,
   "metadata": {},
   "outputs": [
    {
     "name": "stderr",
     "output_type": "stream",
     "text": [
      "/opt/anaconda3/lib/python3.7/site-packages/ipykernel_launcher.py:4: FutureWarning: set_value is deprecated and will be removed in a future release. Please use .at[] or .iat[] accessors instead\n",
      "  after removing the cwd from sys.path.\n"
     ]
    }
   ],
   "source": [
    "for var in objective_var:\n",
    "    X_whole = reduce_dim(whole_df, var, 9999999)"
   ]
  },
  {
   "cell_type": "code",
   "execution_count": 28,
   "metadata": {},
   "outputs": [],
   "source": [
    "X = X_whole[:len(train_df)]\n",
    "X_test = X_whole[len(train_df):]"
   ]
  },
  {
   "cell_type": "code",
   "execution_count": 29,
   "metadata": {},
   "outputs": [],
   "source": [
    "del act_train_df, act_test_df, ppl_df\n",
    "del train_df, test_df\n",
    "del whole_df, X_whole"
   ]
  },
  {
   "cell_type": "code",
   "execution_count": 54,
   "metadata": {},
   "outputs": [
    {
     "data": {
      "text/plain": [
       "['activity_category',\n",
       " 'activity_id',\n",
       " 'char_10_x',\n",
       " 'char_10_y',\n",
       " 'char_11',\n",
       " 'char_12',\n",
       " 'char_13',\n",
       " 'char_14',\n",
       " 'char_15',\n",
       " 'char_16',\n",
       " 'char_17',\n",
       " 'char_18',\n",
       " 'char_19',\n",
       " 'char_1_x',\n",
       " 'char_1_y',\n",
       " 'char_20',\n",
       " 'char_21',\n",
       " 'char_22',\n",
       " 'char_23',\n",
       " 'char_24',\n",
       " 'char_25',\n",
       " 'char_26',\n",
       " 'char_27',\n",
       " 'char_28',\n",
       " 'char_29',\n",
       " 'char_2_x',\n",
       " 'char_2_y',\n",
       " 'char_30',\n",
       " 'char_31',\n",
       " 'char_32',\n",
       " 'char_33',\n",
       " 'char_34',\n",
       " 'char_35',\n",
       " 'char_36',\n",
       " 'char_37',\n",
       " 'char_38',\n",
       " 'char_3_x',\n",
       " 'char_3_y',\n",
       " 'char_4_x',\n",
       " 'char_4_y',\n",
       " 'char_5_x',\n",
       " 'char_5_y',\n",
       " 'char_6_x',\n",
       " 'char_6_y',\n",
       " 'char_7_x',\n",
       " 'char_7_y',\n",
       " 'char_8_x',\n",
       " 'char_8_y',\n",
       " 'char_9_x',\n",
       " 'char_9_y',\n",
       " 'day_x',\n",
       " 'day_y',\n",
       " 'group_1',\n",
       " 'isweekend_x',\n",
       " 'isweekend_y',\n",
       " 'month_x',\n",
       " 'month_y',\n",
       " 'year_x',\n",
       " 'year_y']"
      ]
     },
     "execution_count": 54,
     "metadata": {},
     "output_type": "execute_result"
    }
   ],
   "source": [
    "trainval = list(X.columns.values)\n",
    "testval = list(X_test.columns.values)\n",
    "features = sorted(list(set(trainval) & set(testval)))\n",
    "features"
   ]
  },
  {
   "cell_type": "code",
   "execution_count": 56,
   "metadata": {},
   "outputs": [],
   "source": [
    "def create_feature_map(features):\n",
    "    outfile = open('./xgb.fmap', 'w')\n",
    "    for i, feat in enumerate(features):\n",
    "        outfile.write('{0}\\t{1}\\tq\\n'.format(i, feat))\n",
    "    outfile.close()"
   ]
  },
  {
   "cell_type": "code",
   "execution_count": null,
   "metadata": {},
   "outputs": [],
   "source": [
    "x_train, x_test, y_train, y_test = train_test_split(X, Y_train, test_size = 0.5, random_state=1)\n",
    "x_train.shape, x_test.shape, y_train.shape, y_test.shape"
   ]
  },
  {
   "cell_type": "code",
   "execution_count": null,
   "metadata": {},
   "outputs": [],
   "source": []
  },
  {
   "cell_type": "code",
   "execution_count": 30,
   "metadata": {},
   "outputs": [],
   "source": [
    "le = LabelEncoder()\n",
    "enc = OneHotEncoder(handle_unknown='ignore')"
   ]
  },
  {
   "cell_type": "code",
   "execution_count": 31,
   "metadata": {},
   "outputs": [],
   "source": [
    "not_object = []\n",
    "for var in X.columns:\n",
    "    if var not in objective_var:\n",
    "        not_object.append(var)\n",
    "    else:\n",
    "        temp = pd.concat([X[var],X_test[var]], sort=False)        \n",
    "        le.fit(temp.values)\n",
    "        X[var] = le.transform(X[var].values)\n",
    "        X_test[var] = le.transform(X_test[var].values) "
   ]
  },
  {
   "cell_type": "code",
   "execution_count": 32,
   "metadata": {},
   "outputs": [],
   "source": [
    "enc = enc.fit(pd.concat([X[objective_var],X_test[objective_var]]))\n",
    "X_obj_sparse = enc.transform(X[objective_var])\n",
    "X_test_obj_sparse = enc.transform(X_test[objective_var])"
   ]
  },
  {
   "cell_type": "code",
   "execution_count": 33,
   "metadata": {},
   "outputs": [
    {
     "data": {
      "text/plain": [
       "((2197291, 38), (2197291, 21), (498687, 38), (498687, 21))"
      ]
     },
     "execution_count": 33,
     "metadata": {},
     "output_type": "execute_result"
    }
   ],
   "source": [
    "X[not_object].shape, X[objective_var].shape, X_test[not_object].shape, X_test[objective_var].shape"
   ]
  },
  {
   "cell_type": "code",
   "execution_count": 34,
   "metadata": {},
   "outputs": [],
   "source": [
    "from scipy.sparse import hstack\n",
    "\n",
    "X_sparse = hstack((X[not_object], X_obj_sparse))\n",
    "X_test_sparse = hstack((X_test[not_object], X_test_obj_sparse))"
   ]
  },
  {
   "cell_type": "code",
   "execution_count": 35,
   "metadata": {},
   "outputs": [
    {
     "data": {
      "text/plain": [
       "((2197291, 37439), (498687, 37439))"
      ]
     },
     "execution_count": 35,
     "metadata": {},
     "output_type": "execute_result"
    }
   ],
   "source": [
    "X_sparse.shape, X_test_sparse.shape"
   ]
  },
  {
   "cell_type": "code",
   "execution_count": 36,
   "metadata": {},
   "outputs": [
    {
     "name": "stderr",
     "output_type": "stream",
     "text": [
      "/opt/anaconda3/lib/python3.7/site-packages/xgboost/core.py:587: FutureWarning: Series.base is deprecated and will be removed in a future version\n",
      "  if getattr(data, 'base', None) is not None and \\\n",
      "/opt/anaconda3/lib/python3.7/site-packages/xgboost/core.py:588: FutureWarning: Series.base is deprecated and will be removed in a future version\n",
      "  data.base is not None and isinstance(data, np.ndarray) \\\n"
     ]
    }
   ],
   "source": [
    "dtrain = xgb.DMatrix(X_sparse,label=Y_train)\n",
    "dtest = xgb.DMatrix(X_test_sparse)"
   ]
  },
  {
   "cell_type": "code",
   "execution_count": 49,
   "metadata": {},
   "outputs": [],
   "source": [
    "param = {'max_depth':10, 'eta':0.02, 'silent':1, 'objective':'binary:logistic' }\n",
    "param['nthread'] = 4\n",
    "param['eval_metric'] = 'auc'\n",
    "param['subsample'] = 0.5\n",
    "param['colsample_bytree']= 0.7\n",
    "param['min_child_weight'] = 2\n",
    "param['booster'] = \"gblinear\""
   ]
  },
  {
   "cell_type": "code",
   "execution_count": 50,
   "metadata": {},
   "outputs": [
    {
     "name": "stdout",
     "output_type": "stream",
     "text": [
      "[0]\ttrain-auc:0.890781\n",
      "Will train until train-auc hasn't improved in 10 rounds.\n",
      "[10]\ttrain-auc:0.96075\n",
      "[20]\ttrain-auc:0.987145\n",
      "[30]\ttrain-auc:0.992606\n",
      "[40]\ttrain-auc:0.994636\n",
      "[50]\ttrain-auc:0.995679\n",
      "[60]\ttrain-auc:0.996289\n",
      "[70]\ttrain-auc:0.996669\n",
      "[80]\ttrain-auc:0.996915\n",
      "[90]\ttrain-auc:0.997079\n",
      "[100]\ttrain-auc:0.997189\n",
      "[110]\ttrain-auc:0.997266\n",
      "[120]\ttrain-auc:0.997322\n",
      "[130]\ttrain-auc:0.997364\n",
      "[140]\ttrain-auc:0.997398\n",
      "[150]\ttrain-auc:0.997426\n",
      "[160]\ttrain-auc:0.997449\n",
      "[170]\ttrain-auc:0.997467\n",
      "[180]\ttrain-auc:0.997482\n",
      "[190]\ttrain-auc:0.997495\n",
      "[200]\ttrain-auc:0.997506\n",
      "[210]\ttrain-auc:0.997516\n",
      "[220]\ttrain-auc:0.997525\n",
      "[230]\ttrain-auc:0.997532\n",
      "[240]\ttrain-auc:0.997539\n",
      "[250]\ttrain-auc:0.997545\n",
      "[260]\ttrain-auc:0.99755\n",
      "[270]\ttrain-auc:0.997555\n",
      "[280]\ttrain-auc:0.99756\n",
      "[290]\ttrain-auc:0.997564\n",
      "[299]\ttrain-auc:0.997567\n"
     ]
    }
   ],
   "source": [
    "# np.random.seed(120)\n",
    "evals  = [(dtrain,'train')]\n",
    "num_round = 300\n",
    "bst = xgb.train(param, dtrain, num_round, evals, early_stopping_rounds=10, verbose_eval=10)"
   ]
  },
  {
   "cell_type": "code",
   "execution_count": 60,
   "metadata": {},
   "outputs": [],
   "source": [
    "param1 = {'max_depth':10, 'eta':0.02, 'silent':1, 'objective':'binary:logistic' }\n",
    "param1['nthread'] = 4\n",
    "param1['eval_metric'] = 'auc'\n",
    "param1['subsample'] = 0.5\n",
    "param1['colsample_bytree']= 0.7\n",
    "param1['min_child_weight'] = 2\n",
    "param1['booster'] = \"gbtree\""
   ]
  },
  {
   "cell_type": "code",
   "execution_count": 61,
   "metadata": {},
   "outputs": [
    {
     "name": "stdout",
     "output_type": "stream",
     "text": [
      "[0]\ttrain-auc:0.906377\n",
      "Will train until train-auc hasn't improved in 10 rounds.\n",
      "[10]\ttrain-auc:0.931054\n",
      "[20]\ttrain-auc:0.933289\n",
      "[30]\ttrain-auc:0.934578\n",
      "[40]\ttrain-auc:0.935977\n",
      "[50]\ttrain-auc:0.936964\n",
      "[60]\ttrain-auc:0.937954\n",
      "[70]\ttrain-auc:0.939348\n",
      "[80]\ttrain-auc:0.940233\n",
      "[90]\ttrain-auc:0.941185\n",
      "[100]\ttrain-auc:0.941935\n",
      "[110]\ttrain-auc:0.943195\n",
      "[120]\ttrain-auc:0.943929\n",
      "[130]\ttrain-auc:0.944833\n",
      "[140]\ttrain-auc:0.945781\n",
      "[150]\ttrain-auc:0.946413\n",
      "[160]\ttrain-auc:0.946996\n",
      "[170]\ttrain-auc:0.947631\n",
      "[180]\ttrain-auc:0.947975\n",
      "[190]\ttrain-auc:0.948456\n",
      "[200]\ttrain-auc:0.948721\n",
      "[210]\ttrain-auc:0.949081\n",
      "[220]\ttrain-auc:0.949374\n",
      "[230]\ttrain-auc:0.949656\n",
      "[240]\ttrain-auc:0.95004\n",
      "[250]\ttrain-auc:0.950291\n",
      "[260]\ttrain-auc:0.950598\n",
      "[270]\ttrain-auc:0.95093\n",
      "[280]\ttrain-auc:0.951127\n",
      "[290]\ttrain-auc:0.951326\n",
      "[299]\ttrain-auc:0.951533\n"
     ]
    }
   ],
   "source": [
    "np.random.seed(120)\n",
    "evals  = [(dtrain,'train')]\n",
    "num_round = 300\n",
    "bst1 = xgb.train(param1, dtrain, num_round, evals, early_stopping_rounds=10, verbose_eval=10)"
   ]
  },
  {
   "cell_type": "code",
   "execution_count": 63,
   "metadata": {},
   "outputs": [],
   "source": [
    "def get_importance(gbm, features):\n",
    "    create_feature_map(features)\n",
    "    importance = gbm.get_fscore(fmap='xgb.fmap')\n",
    "    importance = sorted(importance.items(), key=itemgetter(1), reverse=True)\n",
    "    return importance"
   ]
  },
  {
   "cell_type": "code",
   "execution_count": 66,
   "metadata": {},
   "outputs": [
    {
     "data": {
      "text/plain": [
       "[('char_36', 1232),\n",
       " ('char_10_x', 1112),\n",
       " ('char_3_x', 737),\n",
       " ('activity_id', 655),\n",
       " ('char_10_y', 525),\n",
       " ('char_38', 486),\n",
       " ('char_37', 299),\n",
       " ('f11028', 256),\n",
       " ('f37391', 195),\n",
       " ('f37410', 186),\n",
       " ('f30969', 167),\n",
       " ('f37395', 160),\n",
       " ('char_12', 160),\n",
       " ('f18490', 153),\n",
       " ('char_25', 153),\n",
       " ('f37390', 149),\n",
       " ('f37308', 138),\n",
       " ('f37424', 115),\n",
       " ('f37397', 110),\n",
       " ('char_30', 99),\n",
       " ('char_29', 97),\n",
       " ('f37423', 96),\n",
       " ('f37392', 95),\n",
       " ('f37412', 89),\n",
       " ('f30972', 89),\n",
       " ('f614', 89),\n",
       " ('char_15', 84),\n",
       " ('f37404', 84),\n",
       " ('f37401', 83),\n",
       " ('char_16', 83),\n",
       " ('char_1_x', 80),\n",
       " ('char_3_y', 80),\n",
       " ('f37432', 77),\n",
       " ('f37431', 76),\n",
       " ('char_32', 76),\n",
       " ('char_20', 76),\n",
       " ('char_14', 76),\n",
       " ('f37362', 74),\n",
       " ('char_24', 73),\n",
       " ('char_2_y', 71),\n",
       " ('f37409', 71),\n",
       " ('char_18', 70),\n",
       " ('f31165', 70),\n",
       " ('f16157', 70),\n",
       " ('char_21', 70),\n",
       " ('f37316', 68),\n",
       " ('f37388', 68),\n",
       " ('f2740', 68),\n",
       " ('f37311', 68),\n",
       " ('char_17', 68),\n",
       " ('f11436', 67),\n",
       " ('f37433', 67),\n",
       " ('char_22', 67),\n",
       " ('f37402', 66),\n",
       " ('char_13', 66),\n",
       " ('f37317', 65),\n",
       " ('f37361', 64),\n",
       " ('f37314', 64),\n",
       " ('f9362', 63),\n",
       " ('f37393', 62),\n",
       " ('f37421', 62),\n",
       " ('f37352', 62),\n",
       " ('f37357', 62),\n",
       " ('char_19', 61),\n",
       " ('f6046', 60),\n",
       " ('f6616', 60),\n",
       " ('char_26', 60),\n",
       " ('f25465', 59),\n",
       " ('f4902', 58),\n",
       " ('f6952', 58),\n",
       " ('f37407', 58),\n",
       " ('f5295', 57),\n",
       " ('f37384', 55),\n",
       " ('f15062', 55),\n",
       " ('f22180', 55),\n",
       " ('f37422', 55),\n",
       " ('f16765', 55),\n",
       " ('f30970', 54),\n",
       " ('f11498', 53),\n",
       " ('f37387', 53),\n",
       " ('f11268', 53),\n",
       " ('f6892', 52),\n",
       " ('f3826', 51),\n",
       " ('f14939', 51),\n",
       " ('f11492', 51),\n",
       " ('f37370', 50),\n",
       " ('f8517', 50),\n",
       " ('f6813', 50),\n",
       " ('f37394', 50),\n",
       " ('f11234', 49),\n",
       " ('f2776', 49),\n",
       " ('f18377', 48),\n",
       " ('f3459', 48),\n",
       " ('char_31', 48),\n",
       " ('f431', 48),\n",
       " ('f37430', 47),\n",
       " ('f37425', 47),\n",
       " ('f25442', 46),\n",
       " ('f17611', 46),\n",
       " ('f37385', 46),\n",
       " ('f37309', 45),\n",
       " ('char_33', 45),\n",
       " ('f2700', 45),\n",
       " ('f13444', 45),\n",
       " ('f3152', 45),\n",
       " ('f37415', 45),\n",
       " ('f37413', 44),\n",
       " ('f23761', 44),\n",
       " ('f18600', 44),\n",
       " ('f15090', 44),\n",
       " ('f5200', 44),\n",
       " ('f37426', 44),\n",
       " ('char_27', 43),\n",
       " ('f11209', 43),\n",
       " ('char_34', 43),\n",
       " ('f20695', 43),\n",
       " ('f4990', 43),\n",
       " ('f37330', 42),\n",
       " ('f16726', 42),\n",
       " ('f13406', 41),\n",
       " ('f10295', 41),\n",
       " ('char_11', 40),\n",
       " ('f37382', 40),\n",
       " ('f18405', 40),\n",
       " ('char_1_y', 40),\n",
       " ('char_28', 40),\n",
       " ('f3969', 40),\n",
       " ('f37438', 39),\n",
       " ('f37323', 39),\n",
       " ('f15714', 39),\n",
       " ('f37365', 39),\n",
       " ('f19477', 39),\n",
       " ('f11208', 39),\n",
       " ('f9380', 38),\n",
       " ('char_23', 38),\n",
       " ('f37360', 38),\n",
       " ('f23460', 38),\n",
       " ('f37313', 38),\n",
       " ('f15595', 38),\n",
       " ('f6500', 38),\n",
       " ('f6846', 38),\n",
       " ('f37428', 37),\n",
       " ('f13933', 37),\n",
       " ('f37312', 37),\n",
       " ('char_35', 37),\n",
       " ('f12680', 37),\n",
       " ('f24209', 36),\n",
       " ('f9225', 36),\n",
       " ('f12326', 36),\n",
       " ('f37427', 36),\n",
       " ('f11465', 35),\n",
       " ('f37414', 34),\n",
       " ('f16308', 34),\n",
       " ('f37398', 33),\n",
       " ('f37408', 33),\n",
       " ('f37405', 33),\n",
       " ('f37321', 33),\n",
       " ('f22854', 33),\n",
       " ('f3387', 32),\n",
       " ('f12856', 32),\n",
       " ('f15826', 32),\n",
       " ('f11215', 32),\n",
       " ('f37364', 32),\n",
       " ('f1138', 32),\n",
       " ('char_2_x', 32),\n",
       " ('f37416', 32),\n",
       " ('f18419', 32),\n",
       " ('f17498', 32),\n",
       " ('f10001', 31),\n",
       " ('f1160', 31),\n",
       " ('f13010', 31),\n",
       " ('f12180', 31),\n",
       " ('f30971', 31),\n",
       " ('f19036', 30),\n",
       " ('f11211', 30),\n",
       " ('f37338', 29),\n",
       " ('f37435', 29),\n",
       " ('f1212', 28),\n",
       " ('f37327', 28),\n",
       " ('f19699', 28),\n",
       " ('f37429', 28),\n",
       " ('f37434', 28),\n",
       " ('f11121', 28),\n",
       " ('f15880', 28),\n",
       " ('f114', 27),\n",
       " ('f18885', 27),\n",
       " ('f10737', 27),\n",
       " ('f1255', 27),\n",
       " ('f13392', 27),\n",
       " ('f24662', 27),\n",
       " ('f11606', 27),\n",
       " ('f37420', 27),\n",
       " ('f21996', 27),\n",
       " ('f732', 27),\n",
       " ('f30967', 27),\n",
       " ('f6292', 26),\n",
       " ('f15252', 26),\n",
       " ('f37436', 26),\n",
       " ('f37324', 26),\n",
       " ('f37386', 26),\n",
       " ('f2603', 26),\n",
       " ('f11162', 26),\n",
       " ('f12315', 26),\n",
       " ('f37437', 26),\n",
       " ('f4898', 26),\n",
       " ('f6887', 25),\n",
       " ('f14769', 25),\n",
       " ('f6975', 25),\n",
       " ('f11968', 25),\n",
       " ('f14990', 25),\n",
       " ('f22271', 25),\n",
       " ('f15995', 25),\n",
       " ('f161', 25),\n",
       " ('f24753', 24),\n",
       " ('f15155', 24),\n",
       " ('f23364', 24),\n",
       " ('f12088', 24),\n",
       " ('f37319', 24),\n",
       " ('f6542', 24),\n",
       " ('f13552', 24),\n",
       " ('f16449', 24),\n",
       " ('f18144', 23),\n",
       " ('f7070', 23),\n",
       " ('f19754', 23),\n",
       " ('f6459', 23),\n",
       " ('f7564', 23),\n",
       " ('f26812', 23),\n",
       " ('f31143', 23),\n",
       " ('f1304', 23),\n",
       " ('f1313', 22),\n",
       " ('f9774', 22),\n",
       " ('f588', 22),\n",
       " ('f5597', 22),\n",
       " ('f16429', 22),\n",
       " ('f3110', 22),\n",
       " ('f11997', 22),\n",
       " ('f18421', 21),\n",
       " ('f23733', 21),\n",
       " ('f25468', 21),\n",
       " ('f18776', 21),\n",
       " ('f1165', 21),\n",
       " ('f37318', 21),\n",
       " ('f11483', 21),\n",
       " ('f14943', 20),\n",
       " ('f37383', 20),\n",
       " ('f15534', 20),\n",
       " ('f12416', 20),\n",
       " ('f2975', 20),\n",
       " ('f5906', 19),\n",
       " ('f14305', 19),\n",
       " ('f32449', 19),\n",
       " ('f37363', 19),\n",
       " ('f37322', 19),\n",
       " ('f4369', 19),\n",
       " ('f3974', 19),\n",
       " ('f12871', 19),\n",
       " ('f37371', 19),\n",
       " ('f12823', 19),\n",
       " ('f14364', 19),\n",
       " ('f10074', 19),\n",
       " ('f211', 19),\n",
       " ('f2084', 19),\n",
       " ('f11336', 18),\n",
       " ('f4517', 18),\n",
       " ('f37380', 18),\n",
       " ('f4087', 18),\n",
       " ('f11588', 18),\n",
       " ('f15383', 18),\n",
       " ('f9608', 17),\n",
       " ('f2536', 17),\n",
       " ('f4306', 17),\n",
       " ('f12329', 17),\n",
       " ('f22113', 17),\n",
       " ('f12228', 17),\n",
       " ('f752', 17),\n",
       " ('f5220', 17),\n",
       " ('f2028', 16),\n",
       " ('f3641', 16),\n",
       " ('f31203', 16),\n",
       " ('f37406', 16),\n",
       " ('f9365', 16),\n",
       " ('f2886', 16),\n",
       " ('f19840', 16),\n",
       " ('f11817', 16),\n",
       " ('f23974', 16),\n",
       " ('f11611', 16),\n",
       " ('f12745', 16),\n",
       " ('f16563', 16),\n",
       " ('f3312', 15),\n",
       " ('f37399', 15),\n",
       " ('f7804', 15),\n",
       " ('f19202', 15),\n",
       " ('f2907', 15),\n",
       " ('f14677', 15),\n",
       " ('f17500', 15),\n",
       " ('f18909', 15),\n",
       " ('f11251', 15),\n",
       " ('f30976', 15),\n",
       " ('f1226', 15),\n",
       " ('f1268', 15),\n",
       " ('f1292', 15),\n",
       " ('f1339', 14),\n",
       " ('f16530', 14),\n",
       " ('f4668', 14),\n",
       " ('f19069', 14),\n",
       " ('f1901', 14),\n",
       " ('f37359', 14),\n",
       " ('f19231', 14),\n",
       " ('f37315', 14),\n",
       " ('f11095', 14),\n",
       " ('f9204', 14),\n",
       " ('f2363', 14),\n",
       " ('f23544', 14),\n",
       " ('f131', 14),\n",
       " ('f2617', 14),\n",
       " ('f1159', 14),\n",
       " ('f2221', 14),\n",
       " ('f31145', 14),\n",
       " ('f18411', 13),\n",
       " ('f16287', 13),\n",
       " ('f15630', 13),\n",
       " ('f4000', 13),\n",
       " ('f12268', 13),\n",
       " ('f3620', 13),\n",
       " ('f26319', 13),\n",
       " ('f14547', 13),\n",
       " ('f11835', 13),\n",
       " ('f19540', 13),\n",
       " ('activity_category', 13),\n",
       " ('f276', 13),\n",
       " ('f681', 13),\n",
       " ('f16893', 13),\n",
       " ('f26477', 13),\n",
       " ('f17147', 13),\n",
       " ('f37329', 13),\n",
       " ('f5511', 13),\n",
       " ('f10195', 13),\n",
       " ('f10873', 13),\n",
       " ('f11858', 13),\n",
       " ('f15113', 12),\n",
       " ('f6570', 12),\n",
       " ('f2643', 12),\n",
       " ('f16524', 12),\n",
       " ('f31150', 12),\n",
       " ('f24399', 12),\n",
       " ('f9343', 12),\n",
       " ('f4029', 12),\n",
       " ('f37418', 12),\n",
       " ('f18300', 12),\n",
       " ('f14345', 12),\n",
       " ('f2226', 12),\n",
       " ('f11512', 12),\n",
       " ('f12266', 12),\n",
       " ('f9382', 12),\n",
       " ('f11310', 12),\n",
       " ('f18422', 12),\n",
       " ('f4679', 11),\n",
       " ('f15314', 11),\n",
       " ('f3718', 11),\n",
       " ('f8481', 11),\n",
       " ('f17965', 11),\n",
       " ('f37310', 11),\n",
       " ('f16831', 11),\n",
       " ('f31144', 11),\n",
       " ('f31123', 11),\n",
       " ('f27607', 11),\n",
       " ('f18239', 11),\n",
       " ('f1978', 11),\n",
       " ('f20643', 11),\n",
       " ('f2570', 11),\n",
       " ('f12797', 11),\n",
       " ('f21234', 11),\n",
       " ('f17823', 11),\n",
       " ('f912', 11),\n",
       " ('f7657', 11),\n",
       " ('f1453', 11),\n",
       " ('f14798', 11),\n",
       " ('f16961', 11),\n",
       " ('f37356', 10),\n",
       " ('f6201', 10),\n",
       " ('f17838', 10),\n",
       " ('f16041', 10),\n",
       " ('f21263', 10),\n",
       " ('f2287', 10),\n",
       " ('f6991', 10),\n",
       " ('f11994', 10),\n",
       " ('f27225', 10),\n",
       " ('f12706', 10),\n",
       " ('f17953', 10),\n",
       " ('f9652', 10),\n",
       " ('f3024', 10),\n",
       " ('f15616', 10),\n",
       " ('f8708', 10),\n",
       " ('f3791', 10),\n",
       " ('f37326', 9),\n",
       " ('f2690', 9),\n",
       " ('f17508', 9),\n",
       " ('f10931', 9),\n",
       " ('f16686', 9),\n",
       " ('f3246', 9),\n",
       " ('f3268', 9),\n",
       " ('f17471', 9),\n",
       " ('f13259', 9),\n",
       " ('f13124', 9),\n",
       " ('f14767', 9),\n",
       " ('f11345', 9),\n",
       " ('f27214', 9),\n",
       " ('f13137', 9),\n",
       " ('f5873', 9),\n",
       " ('f3757', 9),\n",
       " ('f11170', 9),\n",
       " ('f19136', 9),\n",
       " ('f446', 9),\n",
       " ('f3997', 9),\n",
       " ('f6841', 8),\n",
       " ('f727', 8),\n",
       " ('f37332', 8),\n",
       " ('f806', 8),\n",
       " ('f15148', 8),\n",
       " ('f17593', 8),\n",
       " ('f3670', 8),\n",
       " ('f2851', 8),\n",
       " ('f4221', 8),\n",
       " ('f622', 8),\n",
       " ('f7603', 8),\n",
       " ('f6552', 8),\n",
       " ('f2895', 8),\n",
       " ('f16130', 8),\n",
       " ('f26998', 8),\n",
       " ('f8967', 8),\n",
       " ('f31028', 8),\n",
       " ('f16992', 8),\n",
       " ('f3272', 8),\n",
       " ('f5476', 8),\n",
       " ('f16190', 8),\n",
       " ('f9324', 8),\n",
       " ('f19979', 8),\n",
       " ('f6656', 8),\n",
       " ('f10984', 8),\n",
       " ('f15610', 8),\n",
       " ('f11543', 8),\n",
       " ('f11179', 8),\n",
       " ('f13504', 8),\n",
       " ('f18969', 8),\n",
       " ('f31540', 8),\n",
       " ('f1225', 8),\n",
       " ('f874', 7),\n",
       " ('f8385', 7),\n",
       " ('f31621', 7),\n",
       " ('f37389', 7),\n",
       " ('f5480', 7),\n",
       " ('f31065', 7),\n",
       " ('f14485', 7),\n",
       " ('f22028', 7),\n",
       " ('f7768', 7),\n",
       " ('f16822', 7),\n",
       " ('f2355', 7),\n",
       " ('f4325', 7),\n",
       " ('f22747', 7),\n",
       " ('f12945', 7),\n",
       " ('f31061', 7),\n",
       " ('f2915', 7),\n",
       " ('f31081', 7),\n",
       " ('f12804', 7),\n",
       " ('f18581', 7),\n",
       " ('f3075', 7),\n",
       " ('f452', 7),\n",
       " ('f16761', 7),\n",
       " ('f6407', 7),\n",
       " ('f13330', 7),\n",
       " ('f5801', 7),\n",
       " ('f20082', 7),\n",
       " ('f4159', 7),\n",
       " ('f14684', 7),\n",
       " ('f16924', 7),\n",
       " ('f11844', 7),\n",
       " ('f16993', 7),\n",
       " ('f5198', 7),\n",
       " ('f9958', 7),\n",
       " ('f11353', 7),\n",
       " ('f31030', 7),\n",
       " ('f16417', 7),\n",
       " ('f16295', 7),\n",
       " ('f11885', 7),\n",
       " ('f5126', 7),\n",
       " ('f5286', 7),\n",
       " ('f1639', 6),\n",
       " ('f37400', 6),\n",
       " ('f16532', 6),\n",
       " ('f2132', 6),\n",
       " ('f12230', 6),\n",
       " ('f1219', 6),\n",
       " ('f4216', 6),\n",
       " ('f31730', 6),\n",
       " ('f4450', 6),\n",
       " ('f37333', 6),\n",
       " ('f19671', 6),\n",
       " ('f31592', 6),\n",
       " ('f18028', 6),\n",
       " ('f37344', 6),\n",
       " ('f16852', 6),\n",
       " ('f16751', 6),\n",
       " ('f2710', 6),\n",
       " ('f7955', 6),\n",
       " ('f11732', 6),\n",
       " ('f16173', 6),\n",
       " ('f23749', 6),\n",
       " ('f11703', 6),\n",
       " ('f11828', 6),\n",
       " ('f966', 6),\n",
       " ('f6432', 6),\n",
       " ('f14925', 6),\n",
       " ('f15162', 6),\n",
       " ('f31090', 6),\n",
       " ('f37373', 6),\n",
       " ('f15216', 6),\n",
       " ('f4895', 6),\n",
       " ('f18216', 6),\n",
       " ('f282', 6),\n",
       " ('f14783', 6),\n",
       " ('f2493', 6),\n",
       " ('f37331', 6),\n",
       " ('f11808', 6),\n",
       " ('f13384', 6),\n",
       " ('f20044', 6),\n",
       " ('f18978', 6),\n",
       " ('f31104', 6),\n",
       " ('f13650', 6),\n",
       " ('f7197', 5),\n",
       " ('f31112', 5),\n",
       " ('f6576', 5),\n",
       " ('f1117', 5),\n",
       " ('f31089', 5),\n",
       " ('f37341', 5),\n",
       " ('f12969', 5),\n",
       " ('f6598', 5),\n",
       " ('f9462', 5),\n",
       " ('f3391', 5),\n",
       " ('f18985', 5),\n",
       " ('f6888', 5),\n",
       " ('f31107', 5),\n",
       " ('f37411', 5),\n",
       " ('f3875', 5),\n",
       " ('f6953', 5),\n",
       " ('f31086', 5),\n",
       " ('f16485', 5),\n",
       " ('f5072', 5),\n",
       " ('f18166', 5),\n",
       " ('f7613', 5),\n",
       " ('f2848', 5),\n",
       " ('f4819', 5),\n",
       " ('f16649', 5),\n",
       " ('f15771', 5),\n",
       " ('f8219', 5),\n",
       " ('f7796', 5),\n",
       " ('f423', 5),\n",
       " ('f14665', 5),\n",
       " ('f3284', 5),\n",
       " ('f19615', 5),\n",
       " ('f2810', 5),\n",
       " ('f17623', 5),\n",
       " ('f8551', 5),\n",
       " ('f20191', 5),\n",
       " ('f6645', 5),\n",
       " ('f6486', 5),\n",
       " ('f25447', 5),\n",
       " ('f18982', 5),\n",
       " ('f8240', 5),\n",
       " ('f4756', 5),\n",
       " ('f18574', 5),\n",
       " ('f6057', 5),\n",
       " ('f7481', 5),\n",
       " ('f13324', 5),\n",
       " ('f16588', 5),\n",
       " ('f37340', 4),\n",
       " ('f11365', 4),\n",
       " ('f3904', 4),\n",
       " ('f1865', 4),\n",
       " ('f6314', 4),\n",
       " ('f22552', 4),\n",
       " ('f11477', 4),\n",
       " ('f32018', 4),\n",
       " ('f16445', 4),\n",
       " ('f31139', 4),\n",
       " ('f17046', 4),\n",
       " ('f17209', 4),\n",
       " ('f10413', 4),\n",
       " ('f8311', 4),\n",
       " ('f1295', 4),\n",
       " ('f5650', 4),\n",
       " ('f1031', 4),\n",
       " ('f16876', 4),\n",
       " ('f23780', 4),\n",
       " ('f6472', 4),\n",
       " ('f24824', 4),\n",
       " ('f16830', 4),\n",
       " ('f1021', 4),\n",
       " ('f31499', 4),\n",
       " ('f14948', 4),\n",
       " ('f1926', 4),\n",
       " ('f16203', 4),\n",
       " ('f22615', 4),\n",
       " ('f17412', 4),\n",
       " ('f10031', 4),\n",
       " ('f10411', 4),\n",
       " ('f34563', 4),\n",
       " ('f14991', 4),\n",
       " ('f9366', 4),\n",
       " ('f14788', 4),\n",
       " ('f25437', 4),\n",
       " ('f7594', 4),\n",
       " ('f31573', 4),\n",
       " ('f14199', 4),\n",
       " ('f37381', 4),\n",
       " ('f37320', 4),\n",
       " ('f5954', 4),\n",
       " ('f15112', 4),\n",
       " ('f3293', 4),\n",
       " ('f12215', 4),\n",
       " ('f14260', 4),\n",
       " ('f17782', 4),\n",
       " ('f26351', 4),\n",
       " ('f22870', 4),\n",
       " ('f13520', 4),\n",
       " ('f10915', 4),\n",
       " ('f15355', 4),\n",
       " ('f30982', 4),\n",
       " ('f1676', 4),\n",
       " ('f3719', 4),\n",
       " ('f626', 4),\n",
       " ('f2693', 4),\n",
       " ('f8324', 4),\n",
       " ('f17223', 4),\n",
       " ('f7943', 4),\n",
       " ('f37403', 4),\n",
       " ('f17366', 4),\n",
       " ('f23372', 4),\n",
       " ('f27222', 4),\n",
       " ('f10947', 4),\n",
       " ('f19814', 4),\n",
       " ('f11276', 4),\n",
       " ('f16719', 4),\n",
       " ('f1084', 4),\n",
       " ('f23876', 4),\n",
       " ('f23705', 4),\n",
       " ('f11334', 4),\n",
       " ('f18958', 4),\n",
       " ('f10863', 4),\n",
       " ('f18279', 4),\n",
       " ('f2875', 4),\n",
       " ('f11327', 4),\n",
       " ('f13121', 4),\n",
       " ('f1136', 4),\n",
       " ('f9108', 3),\n",
       " ('f30252', 3),\n",
       " ('f1337', 3),\n",
       " ('f30977', 3),\n",
       " ('f12855', 3),\n",
       " ('f26528', 3),\n",
       " ('f37377', 3),\n",
       " ('f22623', 3),\n",
       " ('f11572', 3),\n",
       " ('f28540', 3),\n",
       " ('f15859', 3),\n",
       " ('f25536', 3),\n",
       " ('f31582', 3),\n",
       " ('f37367', 3),\n",
       " ('f25978', 3),\n",
       " ('f32184', 3),\n",
       " ('f11093', 3),\n",
       " ('f20011', 3),\n",
       " ('f5570', 3),\n",
       " ('f15042', 3),\n",
       " ('f30968', 3),\n",
       " ('f869', 3),\n",
       " ('f31029', 3),\n",
       " ('f536', 3),\n",
       " ('f30980', 3),\n",
       " ('f6935', 3),\n",
       " ('f12021', 3),\n",
       " ('f2858', 3),\n",
       " ('f15940', 3),\n",
       " ('f11890', 3),\n",
       " ('f22969', 3),\n",
       " ('f13574', 3),\n",
       " ('f31082', 3),\n",
       " ('f24914', 3),\n",
       " ('f27963', 3),\n",
       " ('f4655', 3),\n",
       " ('f12333', 3),\n",
       " ('f1054', 3),\n",
       " ('f27215', 3),\n",
       " ('f8747', 3),\n",
       " ('f9567', 3),\n",
       " ('f37417', 3),\n",
       " ('f14679', 3),\n",
       " ('f31590', 3),\n",
       " ('f3330', 3),\n",
       " ('f17787', 3),\n",
       " ('f26857', 3),\n",
       " ('f10262', 3),\n",
       " ('f9313', 3),\n",
       " ('f31027', 3),\n",
       " ('f5587', 3),\n",
       " ('f3007', 3),\n",
       " ('f16420', 3),\n",
       " ('f8762', 3),\n",
       " ('f16898', 3),\n",
       " ('f16980', 3),\n",
       " ('f19656', 3),\n",
       " ('f1450', 3),\n",
       " ('f19010', 3),\n",
       " ('f15335', 3),\n",
       " ('f7756', 3),\n",
       " ('f31097', 3),\n",
       " ('f12359', 3),\n",
       " ('f6258', 3),\n",
       " ('f9371', 3),\n",
       " ('f1989', 3),\n",
       " ('f31075', 3),\n",
       " ('f20584', 3),\n",
       " ('f16752', 3),\n",
       " ('f2083', 3),\n",
       " ('f9511', 3),\n",
       " ('f17164', 3),\n",
       " ('f10850', 3),\n",
       " ('f8743', 3),\n",
       " ('f12593', 3),\n",
       " ('f4188', 3),\n",
       " ('f20946', 3),\n",
       " ('f19826', 3),\n",
       " ('f11372', 3),\n",
       " ('f23881', 3),\n",
       " ('f25402', 3),\n",
       " ('f16108', 3),\n",
       " ('f10117', 3),\n",
       " ('f12058', 3),\n",
       " ('f13096', 3),\n",
       " ('f14216', 3),\n",
       " ('f14286', 3),\n",
       " ('f26633', 3),\n",
       " ('f13942', 3),\n",
       " ('f11304', 3),\n",
       " ('f5737', 3),\n",
       " ('f21230', 3),\n",
       " ('f4980', 2),\n",
       " ('f20423', 2),\n",
       " ('f4551', 2),\n",
       " ('f37419', 2),\n",
       " ('f33059', 2),\n",
       " ('f10900', 2),\n",
       " ('f8912', 2),\n",
       " ('f37325', 2),\n",
       " ('f23420', 2),\n",
       " ('f11581', 2),\n",
       " ('f9998', 2),\n",
       " ('f22234', 2),\n",
       " ('f5451', 2),\n",
       " ('f15624', 2),\n",
       " ('f5193', 2),\n",
       " ('f31194', 2),\n",
       " ('f6285', 2),\n",
       " ('f23100', 2),\n",
       " ('f17179', 2),\n",
       " ('f17502', 2),\n",
       " ('f24436', 2),\n",
       " ('f17001', 2),\n",
       " ('f4457', 2),\n",
       " ('f13247', 2),\n",
       " ('f12609', 2),\n",
       " ('f9033', 2),\n",
       " ('f23346', 2),\n",
       " ('f17202', 2),\n",
       " ('f4587', 2),\n",
       " ('f4149', 2),\n",
       " ('f20607', 2),\n",
       " ('f31063', 2),\n",
       " ('f12278', 2),\n",
       " ('f24942', 2),\n",
       " ('f17712', 2),\n",
       " ('f31722', 2),\n",
       " ('f35270', 2),\n",
       " ('f8491', 2),\n",
       " ('f12933', 2),\n",
       " ('f3404', 2),\n",
       " ('f20894', 2),\n",
       " ('f29711', 2),\n",
       " ('f6189', 2),\n",
       " ('f3302', 2),\n",
       " ('f22296', 2),\n",
       " ('f32958', 2),\n",
       " ('f31076', 2),\n",
       " ('f31604', 2),\n",
       " ('f8466', 2),\n",
       " ('f14168', 2),\n",
       " ('f33925', 2),\n",
       " ('f30975', 2),\n",
       " ('f15287', 2),\n",
       " ('f2266', 2),\n",
       " ('f37336', 2),\n",
       " ('f19998', 2),\n",
       " ('f28927', 2),\n",
       " ('f4136', 2),\n",
       " ('f3809', 2),\n",
       " ('f458', 2),\n",
       " ('f25379', 2),\n",
       " ('f31095', 2),\n",
       " ('f3503', 2),\n",
       " ('f31628', 2),\n",
       " ('f11903', 2),\n",
       " ('f18899', 2),\n",
       " ('f31597', 2),\n",
       " ('f11479', 2),\n",
       " ('f18977', 2),\n",
       " ('f31073', 2),\n",
       " ('f5667', 2),\n",
       " ('f20144', 2),\n",
       " ('f477', 2),\n",
       " ('f4507', 2),\n",
       " ('f6868', 2),\n",
       " ('f20252', 2),\n",
       " ('f28105', 2),\n",
       " ('f6852', 2),\n",
       " ('f5921', 2),\n",
       " ('f17569', 2),\n",
       " ('f11377', 2),\n",
       " ('f15185', 2),\n",
       " ('f1115', 2),\n",
       " ('f2408', 2),\n",
       " ('f33250', 2),\n",
       " ('f11509', 2),\n",
       " ('f5666', 2),\n",
       " ('f18463', 2),\n",
       " ('f4664', 2),\n",
       " ('f16147', 2),\n",
       " ('f14075', 2),\n",
       " ('f11771', 2),\n",
       " ('f24837', 2),\n",
       " ('f24099', 2),\n",
       " ('f31157', 2),\n",
       " ('f29184', 2),\n",
       " ('f19971', 2),\n",
       " ('f8377', 2),\n",
       " ('f19790', 2),\n",
       " ('f8498', 2),\n",
       " ('f4368', 2),\n",
       " ('f11437', 2),\n",
       " ('f19488', 2),\n",
       " ('f21298', 2),\n",
       " ('f2235', 2),\n",
       " ('f8632', 2),\n",
       " ('f18889', 2),\n",
       " ('f17485', 2),\n",
       " ('f11295', 2),\n",
       " ('f7234', 2),\n",
       " ('f2325', 2),\n",
       " ('f15362', 2),\n",
       " ('f1671', 2),\n",
       " ('f24372', 2),\n",
       " ('f32173', 2),\n",
       " ('f1140', 2),\n",
       " ('f25470', 2),\n",
       " ('f16482', 2),\n",
       " ('f18324', 2),\n",
       " ('f24954', 2),\n",
       " ('f17724', 2),\n",
       " ('f7636', 2),\n",
       " ('f33214', 2),\n",
       " ('f7723', 2),\n",
       " ('f18091', 2),\n",
       " ('f14057', 2),\n",
       " ('f12819', 2),\n",
       " ('f6250', 2),\n",
       " ('f15327', 2),\n",
       " ('f4494', 2),\n",
       " ('f22112', 2),\n",
       " ('f13013', 2),\n",
       " ('f1543', 2),\n",
       " ('f24386', 2),\n",
       " ('f18125', 2),\n",
       " ('f11617', 2),\n",
       " ('f14186', 2),\n",
       " ('f31281', 2),\n",
       " ('f13859', 2),\n",
       " ('f8093', 2),\n",
       " ('f31106', 2),\n",
       " ('f11730', 2),\n",
       " ('f11099', 2),\n",
       " ('f12810', 2),\n",
       " ('f9311', 2),\n",
       " ('f16775', 2),\n",
       " ('f7654', 2),\n",
       " ('f12504', 2),\n",
       " ('f2675', 2),\n",
       " ('f18403', 2),\n",
       " ('f18630', 2),\n",
       " ('f23710', 2),\n",
       " ('f1373', 2),\n",
       " ('f35109', 1),\n",
       " ('f22267', 1),\n",
       " ('f8269', 1),\n",
       " ('f1381', 1),\n",
       " ('f7304', 1),\n",
       " ('f20110', 1),\n",
       " ('f19365', 1),\n",
       " ('f25634', 1),\n",
       " ('f3017', 1),\n",
       " ('f1891', 1),\n",
       " ('f12730', 1),\n",
       " ('f15810', 1),\n",
       " ('f3565', 1),\n",
       " ('f20788', 1),\n",
       " ('f21352', 1),\n",
       " ('f501', 1),\n",
       " ('f31134', 1),\n",
       " ('f16551', 1),\n",
       " ('f2892', 1),\n",
       " ('f169', 1),\n",
       " ('f32974', 1),\n",
       " ('f32129', 1),\n",
       " ('f9540', 1),\n",
       " ('f12111', 1),\n",
       " ('f1927', 1),\n",
       " ('f1984', 1),\n",
       " ('f4465', 1),\n",
       " ('f2597', 1),\n",
       " ('f21953', 1),\n",
       " ('f28894', 1),\n",
       " ('f12103', 1),\n",
       " ('f10740', 1),\n",
       " ('f6515', 1),\n",
       " ('f4667', 1),\n",
       " ('f13464', 1),\n",
       " ('f566', 1),\n",
       " ('f27175', 1),\n",
       " ('f8671', 1),\n",
       " ('f14367', 1),\n",
       " ('f24981', 1),\n",
       " ('f23095', 1),\n",
       " ('f24478', 1),\n",
       " ('f27252', 1),\n",
       " ('f37345', 1),\n",
       " ('f3232', 1),\n",
       " ('f37366', 1),\n",
       " ('f1914', 1),\n",
       " ('f5395', 1),\n",
       " ('f1408', 1),\n",
       " ('f8123', 1),\n",
       " ('f23158', 1),\n",
       " ('f5342', 1),\n",
       " ('f711', 1),\n",
       " ('f5026', 1),\n",
       " ('f9743', 1),\n",
       " ('f1912', 1),\n",
       " ('f7428', 1),\n",
       " ('f9239', 1),\n",
       " ('f1932', 1),\n",
       " ('f8382', 1),\n",
       " ('f2525', 1),\n",
       " ('f170', 1),\n",
       " ('f5051', 1),\n",
       " ('f31111', 1),\n",
       " ('f7065', 1),\n",
       " ('f755', 1),\n",
       " ('f3013', 1),\n",
       " ('f7048', 1),\n",
       " ('f5289', 1),\n",
       " ('f2350', 1),\n",
       " ('f426', 1),\n",
       " ('f2589', 1),\n",
       " ('f1281', 1),\n",
       " ('f16072', 1),\n",
       " ('f3842', 1),\n",
       " ('f7925', 1),\n",
       " ('f10673', 1),\n",
       " ('f32742', 1),\n",
       " ('f24576', 1),\n",
       " ('f13972', 1),\n",
       " ('f13958', 1),\n",
       " ('f1752', 1),\n",
       " ('f1403', 1),\n",
       " ('f12017', 1),\n",
       " ('f8756', 1),\n",
       " ('f13104', 1),\n",
       " ('f12599', 1),\n",
       " ('f14741', 1),\n",
       " ('f12457', 1),\n",
       " ('f11220', 1),\n",
       " ('f22525', 1),\n",
       " ('f12540', 1),\n",
       " ('f35070', 1),\n",
       " ('f1350', 1),\n",
       " ('f7825', 1),\n",
       " ('f25393', 1),\n",
       " ('f24156', 1),\n",
       " ('f6810', 1),\n",
       " ('f4352', 1),\n",
       " ('f3583', 1),\n",
       " ('f4974', 1),\n",
       " ('f3000', 1),\n",
       " ...]"
      ]
     },
     "execution_count": 66,
     "metadata": {},
     "output_type": "execute_result"
    }
   ],
   "source": [
    "imp = get_importance(bst1, features)\n",
    "imp"
   ]
  },
  {
   "cell_type": "code",
   "execution_count": null,
   "metadata": {},
   "outputs": [],
   "source": []
  },
  {
   "cell_type": "code",
   "execution_count": null,
   "metadata": {},
   "outputs": [],
   "source": [
    "if label_cv == 1 : # maker sure the cv folds don't share the same labels        \n",
    "    kf = LabelKFold(labels, n_folds=5)\n",
    "else:  \n",
    "    kf = StratifiedKFold(Y_train, n_folds=nfolds, shuffle=True, random_state=random_state)"
   ]
  },
  {
   "cell_type": "code",
   "execution_count": 71,
   "metadata": {},
   "outputs": [],
   "source": [
    "XGB = XGBClassifier()\n",
    "kfold = StratifiedKFold(n_splits=5, shuffle=True, random_state=1)"
   ]
  },
  {
   "cell_type": "code",
   "execution_count": 72,
   "metadata": {},
   "outputs": [],
   "source": [
    "param_test1 = {\n",
    "    'n_estimators':range(5,100,10),\n",
    "    'learning_rate':[0.01,0.1,0.2]\n",
    "    }"
   ]
  },
  {
   "cell_type": "code",
   "execution_count": 79,
   "metadata": {},
   "outputs": [],
   "source": [
    "gsearch = GridSearchCV(estimator = XGB,param_grid = param_test1, \n",
    "        scoring='roc_auc', n_jobs = -1, iid=False, verbose=3, \n",
    "        cv=kfold)"
   ]
  },
  {
   "cell_type": "code",
   "execution_count": 86,
   "metadata": {},
   "outputs": [
    {
     "name": "stdout",
     "output_type": "stream",
     "text": [
      "Fitting 5 folds for each of 30 candidates, totalling 150 fits\n"
     ]
    },
    {
     "name": "stderr",
     "output_type": "stream",
     "text": [
      "[Parallel(n_jobs=-1)]: Using backend LokyBackend with 8 concurrent workers.\n"
     ]
    },
    {
     "ename": "KeyboardInterrupt",
     "evalue": "",
     "output_type": "error",
     "traceback": [
      "\u001b[0;31m---------------------------------------------------------------------------\u001b[0m",
      "\u001b[0;31mKeyboardInterrupt\u001b[0m                         Traceback (most recent call last)",
      "\u001b[0;32m<ipython-input-86-24875950556f>\u001b[0m in \u001b[0;36m<module>\u001b[0;34m\u001b[0m\n\u001b[0;32m----> 1\u001b[0;31m \u001b[0mgsearch\u001b[0m\u001b[0;34m.\u001b[0m\u001b[0mfit\u001b[0m\u001b[0;34m(\u001b[0m\u001b[0mX_sparse\u001b[0m\u001b[0;34m,\u001b[0m \u001b[0mY_train\u001b[0m\u001b[0;34m)\u001b[0m\u001b[0;34m\u001b[0m\u001b[0;34m\u001b[0m\u001b[0m\n\u001b[0m",
      "\u001b[0;32m/opt/anaconda3/lib/python3.7/site-packages/sklearn/model_selection/_search.py\u001b[0m in \u001b[0;36mfit\u001b[0;34m(self, X, y, groups, **fit_params)\u001b[0m\n\u001b[1;32m    686\u001b[0m                 \u001b[0;32mreturn\u001b[0m \u001b[0mresults\u001b[0m\u001b[0;34m\u001b[0m\u001b[0;34m\u001b[0m\u001b[0m\n\u001b[1;32m    687\u001b[0m \u001b[0;34m\u001b[0m\u001b[0m\n\u001b[0;32m--> 688\u001b[0;31m             \u001b[0mself\u001b[0m\u001b[0;34m.\u001b[0m\u001b[0m_run_search\u001b[0m\u001b[0;34m(\u001b[0m\u001b[0mevaluate_candidates\u001b[0m\u001b[0;34m)\u001b[0m\u001b[0;34m\u001b[0m\u001b[0;34m\u001b[0m\u001b[0m\n\u001b[0m\u001b[1;32m    689\u001b[0m \u001b[0;34m\u001b[0m\u001b[0m\n\u001b[1;32m    690\u001b[0m         \u001b[0;31m# For multi-metric evaluation, store the best_index_, best_params_ and\u001b[0m\u001b[0;34m\u001b[0m\u001b[0;34m\u001b[0m\u001b[0;34m\u001b[0m\u001b[0m\n",
      "\u001b[0;32m/opt/anaconda3/lib/python3.7/site-packages/sklearn/model_selection/_search.py\u001b[0m in \u001b[0;36m_run_search\u001b[0;34m(self, evaluate_candidates)\u001b[0m\n\u001b[1;32m   1147\u001b[0m     \u001b[0;32mdef\u001b[0m \u001b[0m_run_search\u001b[0m\u001b[0;34m(\u001b[0m\u001b[0mself\u001b[0m\u001b[0;34m,\u001b[0m \u001b[0mevaluate_candidates\u001b[0m\u001b[0;34m)\u001b[0m\u001b[0;34m:\u001b[0m\u001b[0;34m\u001b[0m\u001b[0;34m\u001b[0m\u001b[0m\n\u001b[1;32m   1148\u001b[0m         \u001b[0;34m\"\"\"Search all candidates in param_grid\"\"\"\u001b[0m\u001b[0;34m\u001b[0m\u001b[0;34m\u001b[0m\u001b[0m\n\u001b[0;32m-> 1149\u001b[0;31m         \u001b[0mevaluate_candidates\u001b[0m\u001b[0;34m(\u001b[0m\u001b[0mParameterGrid\u001b[0m\u001b[0;34m(\u001b[0m\u001b[0mself\u001b[0m\u001b[0;34m.\u001b[0m\u001b[0mparam_grid\u001b[0m\u001b[0;34m)\u001b[0m\u001b[0;34m)\u001b[0m\u001b[0;34m\u001b[0m\u001b[0;34m\u001b[0m\u001b[0m\n\u001b[0m\u001b[1;32m   1150\u001b[0m \u001b[0;34m\u001b[0m\u001b[0m\n\u001b[1;32m   1151\u001b[0m \u001b[0;34m\u001b[0m\u001b[0m\n",
      "\u001b[0;32m/opt/anaconda3/lib/python3.7/site-packages/sklearn/model_selection/_search.py\u001b[0m in \u001b[0;36mevaluate_candidates\u001b[0;34m(candidate_params)\u001b[0m\n\u001b[1;32m    665\u001b[0m                                \u001b[0;32mfor\u001b[0m \u001b[0mparameters\u001b[0m\u001b[0;34m,\u001b[0m \u001b[0;34m(\u001b[0m\u001b[0mtrain\u001b[0m\u001b[0;34m,\u001b[0m \u001b[0mtest\u001b[0m\u001b[0;34m)\u001b[0m\u001b[0;34m\u001b[0m\u001b[0;34m\u001b[0m\u001b[0m\n\u001b[1;32m    666\u001b[0m                                in product(candidate_params,\n\u001b[0;32m--> 667\u001b[0;31m                                           cv.split(X, y, groups)))\n\u001b[0m\u001b[1;32m    668\u001b[0m \u001b[0;34m\u001b[0m\u001b[0m\n\u001b[1;32m    669\u001b[0m                 \u001b[0;32mif\u001b[0m \u001b[0mlen\u001b[0m\u001b[0;34m(\u001b[0m\u001b[0mout\u001b[0m\u001b[0;34m)\u001b[0m \u001b[0;34m<\u001b[0m \u001b[0;36m1\u001b[0m\u001b[0;34m:\u001b[0m\u001b[0;34m\u001b[0m\u001b[0;34m\u001b[0m\u001b[0m\n",
      "\u001b[0;32m/opt/anaconda3/lib/python3.7/site-packages/joblib/parallel.py\u001b[0m in \u001b[0;36m__call__\u001b[0;34m(self, iterable)\u001b[0m\n\u001b[1;32m    932\u001b[0m \u001b[0;34m\u001b[0m\u001b[0m\n\u001b[1;32m    933\u001b[0m             \u001b[0;32mwith\u001b[0m \u001b[0mself\u001b[0m\u001b[0;34m.\u001b[0m\u001b[0m_backend\u001b[0m\u001b[0;34m.\u001b[0m\u001b[0mretrieval_context\u001b[0m\u001b[0;34m(\u001b[0m\u001b[0;34m)\u001b[0m\u001b[0;34m:\u001b[0m\u001b[0;34m\u001b[0m\u001b[0;34m\u001b[0m\u001b[0m\n\u001b[0;32m--> 934\u001b[0;31m                 \u001b[0mself\u001b[0m\u001b[0;34m.\u001b[0m\u001b[0mretrieve\u001b[0m\u001b[0;34m(\u001b[0m\u001b[0;34m)\u001b[0m\u001b[0;34m\u001b[0m\u001b[0;34m\u001b[0m\u001b[0m\n\u001b[0m\u001b[1;32m    935\u001b[0m             \u001b[0;31m# Make sure that we get a last message telling us we are done\u001b[0m\u001b[0;34m\u001b[0m\u001b[0;34m\u001b[0m\u001b[0;34m\u001b[0m\u001b[0m\n\u001b[1;32m    936\u001b[0m             \u001b[0melapsed_time\u001b[0m \u001b[0;34m=\u001b[0m \u001b[0mtime\u001b[0m\u001b[0;34m.\u001b[0m\u001b[0mtime\u001b[0m\u001b[0;34m(\u001b[0m\u001b[0;34m)\u001b[0m \u001b[0;34m-\u001b[0m \u001b[0mself\u001b[0m\u001b[0;34m.\u001b[0m\u001b[0m_start_time\u001b[0m\u001b[0;34m\u001b[0m\u001b[0;34m\u001b[0m\u001b[0m\n",
      "\u001b[0;32m/opt/anaconda3/lib/python3.7/site-packages/joblib/parallel.py\u001b[0m in \u001b[0;36mretrieve\u001b[0;34m(self)\u001b[0m\n\u001b[1;32m    831\u001b[0m             \u001b[0;32mtry\u001b[0m\u001b[0;34m:\u001b[0m\u001b[0;34m\u001b[0m\u001b[0;34m\u001b[0m\u001b[0m\n\u001b[1;32m    832\u001b[0m                 \u001b[0;32mif\u001b[0m \u001b[0mgetattr\u001b[0m\u001b[0;34m(\u001b[0m\u001b[0mself\u001b[0m\u001b[0;34m.\u001b[0m\u001b[0m_backend\u001b[0m\u001b[0;34m,\u001b[0m \u001b[0;34m'supports_timeout'\u001b[0m\u001b[0;34m,\u001b[0m \u001b[0;32mFalse\u001b[0m\u001b[0;34m)\u001b[0m\u001b[0;34m:\u001b[0m\u001b[0;34m\u001b[0m\u001b[0;34m\u001b[0m\u001b[0m\n\u001b[0;32m--> 833\u001b[0;31m                     \u001b[0mself\u001b[0m\u001b[0;34m.\u001b[0m\u001b[0m_output\u001b[0m\u001b[0;34m.\u001b[0m\u001b[0mextend\u001b[0m\u001b[0;34m(\u001b[0m\u001b[0mjob\u001b[0m\u001b[0;34m.\u001b[0m\u001b[0mget\u001b[0m\u001b[0;34m(\u001b[0m\u001b[0mtimeout\u001b[0m\u001b[0;34m=\u001b[0m\u001b[0mself\u001b[0m\u001b[0;34m.\u001b[0m\u001b[0mtimeout\u001b[0m\u001b[0;34m)\u001b[0m\u001b[0;34m)\u001b[0m\u001b[0;34m\u001b[0m\u001b[0;34m\u001b[0m\u001b[0m\n\u001b[0m\u001b[1;32m    834\u001b[0m                 \u001b[0;32melse\u001b[0m\u001b[0;34m:\u001b[0m\u001b[0;34m\u001b[0m\u001b[0;34m\u001b[0m\u001b[0m\n\u001b[1;32m    835\u001b[0m                     \u001b[0mself\u001b[0m\u001b[0;34m.\u001b[0m\u001b[0m_output\u001b[0m\u001b[0;34m.\u001b[0m\u001b[0mextend\u001b[0m\u001b[0;34m(\u001b[0m\u001b[0mjob\u001b[0m\u001b[0;34m.\u001b[0m\u001b[0mget\u001b[0m\u001b[0;34m(\u001b[0m\u001b[0;34m)\u001b[0m\u001b[0;34m)\u001b[0m\u001b[0;34m\u001b[0m\u001b[0;34m\u001b[0m\u001b[0m\n",
      "\u001b[0;32m/opt/anaconda3/lib/python3.7/site-packages/joblib/_parallel_backends.py\u001b[0m in \u001b[0;36mwrap_future_result\u001b[0;34m(future, timeout)\u001b[0m\n\u001b[1;32m    519\u001b[0m         AsyncResults.get from multiprocessing.\"\"\"\n\u001b[1;32m    520\u001b[0m         \u001b[0;32mtry\u001b[0m\u001b[0;34m:\u001b[0m\u001b[0;34m\u001b[0m\u001b[0;34m\u001b[0m\u001b[0m\n\u001b[0;32m--> 521\u001b[0;31m             \u001b[0;32mreturn\u001b[0m \u001b[0mfuture\u001b[0m\u001b[0;34m.\u001b[0m\u001b[0mresult\u001b[0m\u001b[0;34m(\u001b[0m\u001b[0mtimeout\u001b[0m\u001b[0;34m=\u001b[0m\u001b[0mtimeout\u001b[0m\u001b[0;34m)\u001b[0m\u001b[0;34m\u001b[0m\u001b[0;34m\u001b[0m\u001b[0m\n\u001b[0m\u001b[1;32m    522\u001b[0m         \u001b[0;32mexcept\u001b[0m \u001b[0mLokyTimeoutError\u001b[0m\u001b[0;34m:\u001b[0m\u001b[0;34m\u001b[0m\u001b[0;34m\u001b[0m\u001b[0m\n\u001b[1;32m    523\u001b[0m             \u001b[0;32mraise\u001b[0m \u001b[0mTimeoutError\u001b[0m\u001b[0;34m(\u001b[0m\u001b[0;34m)\u001b[0m\u001b[0;34m\u001b[0m\u001b[0;34m\u001b[0m\u001b[0m\n",
      "\u001b[0;32m/opt/anaconda3/lib/python3.7/concurrent/futures/_base.py\u001b[0m in \u001b[0;36mresult\u001b[0;34m(self, timeout)\u001b[0m\n\u001b[1;32m    428\u001b[0m                 \u001b[0;32mreturn\u001b[0m \u001b[0mself\u001b[0m\u001b[0;34m.\u001b[0m\u001b[0m__get_result\u001b[0m\u001b[0;34m(\u001b[0m\u001b[0;34m)\u001b[0m\u001b[0;34m\u001b[0m\u001b[0;34m\u001b[0m\u001b[0m\n\u001b[1;32m    429\u001b[0m \u001b[0;34m\u001b[0m\u001b[0m\n\u001b[0;32m--> 430\u001b[0;31m             \u001b[0mself\u001b[0m\u001b[0;34m.\u001b[0m\u001b[0m_condition\u001b[0m\u001b[0;34m.\u001b[0m\u001b[0mwait\u001b[0m\u001b[0;34m(\u001b[0m\u001b[0mtimeout\u001b[0m\u001b[0;34m)\u001b[0m\u001b[0;34m\u001b[0m\u001b[0;34m\u001b[0m\u001b[0m\n\u001b[0m\u001b[1;32m    431\u001b[0m \u001b[0;34m\u001b[0m\u001b[0m\n\u001b[1;32m    432\u001b[0m             \u001b[0;32mif\u001b[0m \u001b[0mself\u001b[0m\u001b[0;34m.\u001b[0m\u001b[0m_state\u001b[0m \u001b[0;32min\u001b[0m \u001b[0;34m[\u001b[0m\u001b[0mCANCELLED\u001b[0m\u001b[0;34m,\u001b[0m \u001b[0mCANCELLED_AND_NOTIFIED\u001b[0m\u001b[0;34m]\u001b[0m\u001b[0;34m:\u001b[0m\u001b[0;34m\u001b[0m\u001b[0;34m\u001b[0m\u001b[0m\n",
      "\u001b[0;32m/opt/anaconda3/lib/python3.7/threading.py\u001b[0m in \u001b[0;36mwait\u001b[0;34m(self, timeout)\u001b[0m\n\u001b[1;32m    294\u001b[0m         \u001b[0;32mtry\u001b[0m\u001b[0;34m:\u001b[0m    \u001b[0;31m# restore state no matter what (e.g., KeyboardInterrupt)\u001b[0m\u001b[0;34m\u001b[0m\u001b[0;34m\u001b[0m\u001b[0m\n\u001b[1;32m    295\u001b[0m             \u001b[0;32mif\u001b[0m \u001b[0mtimeout\u001b[0m \u001b[0;32mis\u001b[0m \u001b[0;32mNone\u001b[0m\u001b[0;34m:\u001b[0m\u001b[0;34m\u001b[0m\u001b[0;34m\u001b[0m\u001b[0m\n\u001b[0;32m--> 296\u001b[0;31m                 \u001b[0mwaiter\u001b[0m\u001b[0;34m.\u001b[0m\u001b[0macquire\u001b[0m\u001b[0;34m(\u001b[0m\u001b[0;34m)\u001b[0m\u001b[0;34m\u001b[0m\u001b[0;34m\u001b[0m\u001b[0m\n\u001b[0m\u001b[1;32m    297\u001b[0m                 \u001b[0mgotit\u001b[0m \u001b[0;34m=\u001b[0m \u001b[0;32mTrue\u001b[0m\u001b[0;34m\u001b[0m\u001b[0;34m\u001b[0m\u001b[0m\n\u001b[1;32m    298\u001b[0m             \u001b[0;32melse\u001b[0m\u001b[0;34m:\u001b[0m\u001b[0;34m\u001b[0m\u001b[0;34m\u001b[0m\u001b[0m\n",
      "\u001b[0;31mKeyboardInterrupt\u001b[0m: "
     ]
    }
   ],
   "source": [
    "gsearch.fit(X_sparse, Y_train) "
   ]
  },
  {
   "cell_type": "code",
   "execution_count": 87,
   "metadata": {},
   "outputs": [
    {
     "data": {
      "text/plain": [
       "XGBClassifier(base_score=0.5, booster='gbtree', colsample_bylevel=1,\n",
       "              colsample_bynode=1, colsample_bytree=1, gamma=0,\n",
       "              learning_rate=0.2, max_delta_step=0, max_depth=3,\n",
       "              min_child_weight=1, missing=None, n_estimators=95, n_jobs=1,\n",
       "              nthread=None, objective='binary:logistic', random_state=0,\n",
       "              reg_alpha=0, reg_lambda=1, scale_pos_weight=1, seed=None,\n",
       "              silent=None, subsample=1, verbosity=1)"
      ]
     },
     "execution_count": 87,
     "metadata": {},
     "output_type": "execute_result"
    }
   ],
   "source": [
    "gsearch.best_estimator_"
   ]
  },
  {
   "cell_type": "code",
   "execution_count": 88,
   "metadata": {},
   "outputs": [
    {
     "data": {
      "text/plain": [
       "{'learning_rate': 0.2, 'n_estimators': 95}"
      ]
     },
     "execution_count": 88,
     "metadata": {},
     "output_type": "execute_result"
    }
   ],
   "source": [
    "gsearch.best_params_"
   ]
  },
  {
   "cell_type": "code",
   "execution_count": 89,
   "metadata": {},
   "outputs": [
    {
     "data": {
      "text/plain": [
       "0.9334227088677759"
      ]
     },
     "execution_count": 89,
     "metadata": {},
     "output_type": "execute_result"
    }
   ],
   "source": [
    "gsearch.best_score_"
   ]
  },
  {
   "cell_type": "code",
   "execution_count": 95,
   "metadata": {},
   "outputs": [
    {
     "data": {
      "text/plain": [
       "XGBClassifier(base_score=0.5, booster='gbtree', colsample_bylevel=1,\n",
       "              colsample_bynode=1, colsample_bytree=1, gamma=0,\n",
       "              learning_rate=0.2, max_delta_step=0, max_depth=3,\n",
       "              min_child_weight=1, missing=None, n_estimators=95, n_jobs=1,\n",
       "              nthread=None, objective='binary:logistic', random_state=0,\n",
       "              reg_alpha=0, reg_lambda=1, scale_pos_weight=1, seed=None,\n",
       "              silent=None, subsample=1, verbosity=1)"
      ]
     },
     "execution_count": 95,
     "metadata": {},
     "output_type": "execute_result"
    }
   ],
   "source": [
    "clf = XGBClassifier(n_estimators=95, learning_rate=0.2)\n",
    "clf.fit(X_sparse, Y_train)"
   ]
  },
  {
   "cell_type": "code",
   "execution_count": 96,
   "metadata": {},
   "outputs": [],
   "source": [
    "y_pred_clf = clf.predict(X_test_sparse)"
   ]
  },
  {
   "cell_type": "code",
   "execution_count": 97,
   "metadata": {},
   "outputs": [],
   "source": [
    "submission9 = pd.DataFrame({'activity_id' : test_id, 'outcome': y_pred_clf})\n",
    "submission9.to_csv('submission9.csv', index = False)"
   ]
  },
  {
   "cell_type": "code",
   "execution_count": null,
   "metadata": {},
   "outputs": [],
   "source": [
    "# 0.86173"
   ]
  },
  {
   "cell_type": "code",
   "execution_count": 98,
   "metadata": {},
   "outputs": [],
   "source": [
    "XGB1 = XGB.set_params(**gsearch.best_params_)"
   ]
  },
  {
   "cell_type": "code",
   "execution_count": 99,
   "metadata": {},
   "outputs": [],
   "source": [
    "param_test2 = {\n",
    "#     'n_estimators':range(5,100,10),\n",
    "#     'learning_rate':[0.01,0.1,0.2],\n",
    "    'max_depth': np.linspace(1, 10, 10, dtype=int)\n",
    "    }"
   ]
  },
  {
   "cell_type": "code",
   "execution_count": 100,
   "metadata": {},
   "outputs": [],
   "source": [
    "gsearch1 = GridSearchCV(estimator = XGB1, param_grid = param_test2, \n",
    "        scoring='roc_auc', n_jobs = -1, iid=False, verbose=3, \n",
    "        cv=kfold)"
   ]
  },
  {
   "cell_type": "code",
   "execution_count": 101,
   "metadata": {},
   "outputs": [
    {
     "name": "stdout",
     "output_type": "stream",
     "text": [
      "Fitting 5 folds for each of 10 candidates, totalling 50 fits\n"
     ]
    },
    {
     "name": "stderr",
     "output_type": "stream",
     "text": [
      "[Parallel(n_jobs=-1)]: Using backend LokyBackend with 8 concurrent workers.\n",
      "[Parallel(n_jobs=-1)]: Done  16 tasks      | elapsed: 21.4min\n",
      "[Parallel(n_jobs=-1)]: Done  50 out of  50 | elapsed: 94.3min finished\n"
     ]
    },
    {
     "data": {
      "text/plain": [
       "GridSearchCV(cv=StratifiedKFold(n_splits=5, random_state=1, shuffle=True),\n",
       "             error_score='raise-deprecating',\n",
       "             estimator=XGBClassifier(base_score=0.5, booster='gbtree',\n",
       "                                     colsample_bylevel=1, colsample_bynode=1,\n",
       "                                     colsample_bytree=1, gamma=0,\n",
       "                                     learning_rate=0.2, max_delta_step=0,\n",
       "                                     max_depth=3, min_child_weight=1,\n",
       "                                     missing=None, n_estimators=95, n_jobs=1,\n",
       "                                     nthread=None, objective='binary:logistic',\n",
       "                                     random_state=0, reg_alpha=0, reg_lambda=1,\n",
       "                                     scale_pos_weight=1, seed=None, silent=None,\n",
       "                                     subsample=1, verbosity=1),\n",
       "             iid=False, n_jobs=-1,\n",
       "             param_grid={'max_depth': array([ 1,  2,  3,  4,  5,  6,  7,  8,  9, 10])},\n",
       "             pre_dispatch='2*n_jobs', refit=True, return_train_score=False,\n",
       "             scoring='roc_auc', verbose=3)"
      ]
     },
     "execution_count": 101,
     "metadata": {},
     "output_type": "execute_result"
    }
   ],
   "source": [
    "gsearch1.fit(X_sparse, Y_train)"
   ]
  },
  {
   "cell_type": "code",
   "execution_count": 102,
   "metadata": {},
   "outputs": [
    {
     "data": {
      "text/plain": [
       "XGBClassifier(base_score=0.5, booster='gbtree', colsample_bylevel=1,\n",
       "              colsample_bynode=1, colsample_bytree=1, gamma=0,\n",
       "              learning_rate=0.2, max_delta_step=0, max_depth=10,\n",
       "              min_child_weight=1, missing=None, n_estimators=95, n_jobs=1,\n",
       "              nthread=None, objective='binary:logistic', random_state=0,\n",
       "              reg_alpha=0, reg_lambda=1, scale_pos_weight=1, seed=None,\n",
       "              silent=None, subsample=1, verbosity=1)"
      ]
     },
     "execution_count": 102,
     "metadata": {},
     "output_type": "execute_result"
    }
   ],
   "source": [
    "gsearch1.best_estimator_"
   ]
  },
  {
   "cell_type": "code",
   "execution_count": 103,
   "metadata": {},
   "outputs": [
    {
     "data": {
      "text/plain": [
       "{'max_depth': 10}"
      ]
     },
     "execution_count": 103,
     "metadata": {},
     "output_type": "execute_result"
    }
   ],
   "source": [
    "gsearch1.best_params_"
   ]
  },
  {
   "cell_type": "code",
   "execution_count": 104,
   "metadata": {},
   "outputs": [
    {
     "data": {
      "text/plain": [
       "0.9632642865279267"
      ]
     },
     "execution_count": 104,
     "metadata": {},
     "output_type": "execute_result"
    }
   ],
   "source": [
    "gsearch1.best_score_"
   ]
  },
  {
   "cell_type": "code",
   "execution_count": 105,
   "metadata": {},
   "outputs": [
    {
     "data": {
      "text/plain": [
       "XGBClassifier(base_score=0.5, booster='gbtree', colsample_bylevel=1,\n",
       "              colsample_bynode=1, colsample_bytree=1, gamma=0,\n",
       "              learning_rate=0.2, max_delta_step=0, max_depth=10,\n",
       "              min_child_weight=1, missing=None, n_estimators=95, n_jobs=1,\n",
       "              nthread=None, objective='binary:logistic', random_state=0,\n",
       "              reg_alpha=0, reg_lambda=1, scale_pos_weight=1, seed=None,\n",
       "              silent=None, subsample=1, verbosity=1)"
      ]
     },
     "execution_count": 105,
     "metadata": {},
     "output_type": "execute_result"
    }
   ],
   "source": [
    "clf1 = XGBClassifier(n_estimators=95, learning_rate=0.2, max_depth=10)\n",
    "clf1.fit(X_sparse, Y_train)"
   ]
  },
  {
   "cell_type": "code",
   "execution_count": 111,
   "metadata": {},
   "outputs": [],
   "source": [
    "y_pred_clf1 = clf1.predict(X_test_sparse)"
   ]
  },
  {
   "cell_type": "code",
   "execution_count": 112,
   "metadata": {},
   "outputs": [],
   "source": [
    "submission10 = pd.DataFrame({'activity_id' : test_id, 'outcome': y_pred_clf1})\n",
    "submission10.to_csv('submission10.csv', index = False)"
   ]
  },
  {
   "cell_type": "code",
   "execution_count": null,
   "metadata": {},
   "outputs": [],
   "source": [
    "# 0.87391"
   ]
  },
  {
   "cell_type": "code",
   "execution_count": 106,
   "metadata": {},
   "outputs": [],
   "source": [
    "XGB2 = XGB1.set_params(**gsearch1.best_params_)"
   ]
  },
  {
   "cell_type": "code",
   "execution_count": 107,
   "metadata": {},
   "outputs": [],
   "source": [
    "param_test3 = {\n",
    "    'min_child_weight':range(1,6,2),\n",
    "    'max_depth': range(2,10,1)\n",
    "}"
   ]
  },
  {
   "cell_type": "code",
   "execution_count": 108,
   "metadata": {},
   "outputs": [],
   "source": [
    "gsearch2 = GridSearchCV(estimator = XGB2, param_grid = param_test3, \n",
    "        scoring='roc_auc', n_jobs = -1, iid=False, verbose=3, \n",
    "        cv=kfold)"
   ]
  },
  {
   "cell_type": "code",
   "execution_count": 109,
   "metadata": {},
   "outputs": [
    {
     "name": "stdout",
     "output_type": "stream",
     "text": [
      "Fitting 5 folds for each of 24 candidates, totalling 120 fits\n"
     ]
    },
    {
     "name": "stderr",
     "output_type": "stream",
     "text": [
      "[Parallel(n_jobs=-1)]: Using backend LokyBackend with 8 concurrent workers.\n",
      "[Parallel(n_jobs=-1)]: Done  16 tasks      | elapsed: 20.6min\n",
      "[Parallel(n_jobs=-1)]: Done 120 out of 120 | elapsed: 211.2min finished\n"
     ]
    },
    {
     "data": {
      "text/plain": [
       "GridSearchCV(cv=StratifiedKFold(n_splits=5, random_state=1, shuffle=True),\n",
       "             error_score='raise-deprecating',\n",
       "             estimator=XGBClassifier(base_score=0.5, booster='gbtree',\n",
       "                                     colsample_bylevel=1, colsample_bynode=1,\n",
       "                                     colsample_bytree=1, gamma=0,\n",
       "                                     learning_rate=0.2, max_delta_step=0,\n",
       "                                     max_depth=10, min_child_weight=1,\n",
       "                                     missing=None, n_estimators=95, n_jobs=1,\n",
       "                                     nthread=None, objective='binary:logistic',\n",
       "                                     random_state=0, reg_alpha=0, reg_lambda=1,\n",
       "                                     scale_pos_weight=1, seed=None, silent=None,\n",
       "                                     subsample=1, verbosity=1),\n",
       "             iid=False, n_jobs=-1,\n",
       "             param_grid={'max_depth': range(2, 10),\n",
       "                         'min_child_weight': range(1, 6, 2)},\n",
       "             pre_dispatch='2*n_jobs', refit=True, return_train_score=False,\n",
       "             scoring='roc_auc', verbose=3)"
      ]
     },
     "execution_count": 109,
     "metadata": {},
     "output_type": "execute_result"
    }
   ],
   "source": [
    "gsearch2.fit(X_sparse, Y_train)"
   ]
  },
  {
   "cell_type": "code",
   "execution_count": 113,
   "metadata": {},
   "outputs": [
    {
     "data": {
      "text/plain": [
       "XGBClassifier(base_score=0.5, booster='gbtree', colsample_bylevel=1,\n",
       "              colsample_bynode=1, colsample_bytree=1, gamma=0,\n",
       "              learning_rate=0.2, max_delta_step=0, max_depth=9,\n",
       "              min_child_weight=3, missing=None, n_estimators=95, n_jobs=1,\n",
       "              nthread=None, objective='binary:logistic', random_state=0,\n",
       "              reg_alpha=0, reg_lambda=1, scale_pos_weight=1, seed=None,\n",
       "              silent=None, subsample=1, verbosity=1)"
      ]
     },
     "execution_count": 113,
     "metadata": {},
     "output_type": "execute_result"
    }
   ],
   "source": [
    "gsearch2.best_estimator_"
   ]
  },
  {
   "cell_type": "code",
   "execution_count": 114,
   "metadata": {},
   "outputs": [
    {
     "data": {
      "text/plain": [
       "{'max_depth': 9, 'min_child_weight': 3}"
      ]
     },
     "execution_count": 114,
     "metadata": {},
     "output_type": "execute_result"
    }
   ],
   "source": [
    "gsearch2.best_params_"
   ]
  },
  {
   "cell_type": "code",
   "execution_count": 115,
   "metadata": {},
   "outputs": [
    {
     "data": {
      "text/plain": [
       "0.9597520044821763"
      ]
     },
     "execution_count": 115,
     "metadata": {},
     "output_type": "execute_result"
    }
   ],
   "source": [
    "gsearch2.best_score_"
   ]
  },
  {
   "cell_type": "code",
   "execution_count": 116,
   "metadata": {},
   "outputs": [
    {
     "data": {
      "text/plain": [
       "XGBClassifier(base_score=0.5, booster='gbtree', colsample_bylevel=1,\n",
       "              colsample_bynode=1, colsample_bytree=1, gamma=0,\n",
       "              learning_rate=0.2, max_delta_step=0, max_depth=9,\n",
       "              min_child_weight=3, missing=None, n_estimators=95, n_jobs=1,\n",
       "              nthread=None, objective='binary:logistic', random_state=0,\n",
       "              reg_alpha=0, reg_lambda=1, scale_pos_weight=1, seed=None,\n",
       "              silent=None, subsample=1, verbosity=1)"
      ]
     },
     "execution_count": 116,
     "metadata": {},
     "output_type": "execute_result"
    }
   ],
   "source": [
    "clf2 = XGBClassifier(n_estimators=95, learning_rate=0.2, max_depth=9, min_child_weight=3)\n",
    "clf2.fit(X_sparse, Y_train)"
   ]
  },
  {
   "cell_type": "code",
   "execution_count": 117,
   "metadata": {},
   "outputs": [],
   "source": [
    "y_pred_clf2 = clf2.predict(X_test_sparse)"
   ]
  },
  {
   "cell_type": "code",
   "execution_count": 118,
   "metadata": {},
   "outputs": [],
   "source": [
    "submission11 = pd.DataFrame({'activity_id' : test_id, 'outcome': y_pred_clf2})\n",
    "submission11.to_csv('submission11.csv', index = False)"
   ]
  },
  {
   "cell_type": "code",
   "execution_count": null,
   "metadata": {},
   "outputs": [],
   "source": [
    "# 0.87174"
   ]
  },
  {
   "cell_type": "code",
   "execution_count": 119,
   "metadata": {},
   "outputs": [],
   "source": [
    "XGB3 = XGB2.set_params(**gsearch2.best_params_)"
   ]
  },
  {
   "cell_type": "code",
   "execution_count": 121,
   "metadata": {},
   "outputs": [
    {
     "data": {
      "text/plain": [
       "XGBClassifier(base_score=0.5, booster='gbtree', colsample_bylevel=1,\n",
       "              colsample_bynode=1, colsample_bytree=1, gamma=0,\n",
       "              learning_rate=0.2, max_delta_step=0, max_depth=9,\n",
       "              min_child_weight=3, missing=None, n_estimators=95, n_jobs=1,\n",
       "              nthread=None, objective='binary:logistic', random_state=0,\n",
       "              reg_alpha=0, reg_lambda=1, scale_pos_weight=1, seed=None,\n",
       "              silent=None, subsample=1, verbosity=1)"
      ]
     },
     "execution_count": 121,
     "metadata": {},
     "output_type": "execute_result"
    }
   ],
   "source": [
    "XGB3"
   ]
  },
  {
   "cell_type": "code",
   "execution_count": 120,
   "metadata": {},
   "outputs": [],
   "source": [
    "param_test4 = {\n",
    "#     'min_child_weight':range(1,6,2),\n",
    "#     'max_depth': range(2,10,1),\n",
    "    'gamma':[i/10.0 for i in range(0,5)]\n",
    "}"
   ]
  },
  {
   "cell_type": "code",
   "execution_count": 122,
   "metadata": {},
   "outputs": [],
   "source": [
    "gsearch3 = GridSearchCV(estimator = XGB3, param_grid = param_test4, \n",
    "        scoring='roc_auc', n_jobs = -1, iid=False, verbose=3, \n",
    "        cv=kfold)"
   ]
  },
  {
   "cell_type": "code",
   "execution_count": 123,
   "metadata": {},
   "outputs": [
    {
     "name": "stdout",
     "output_type": "stream",
     "text": [
      "Fitting 5 folds for each of 5 candidates, totalling 25 fits\n"
     ]
    },
    {
     "name": "stderr",
     "output_type": "stream",
     "text": [
      "[Parallel(n_jobs=-1)]: Using backend LokyBackend with 8 concurrent workers.\n",
      "[Parallel(n_jobs=-1)]: Done  19 out of  25 | elapsed: 63.7min remaining: 20.1min\n",
      "[Parallel(n_jobs=-1)]: Done  25 out of  25 | elapsed: 73.1min finished\n"
     ]
    },
    {
     "data": {
      "text/plain": [
       "GridSearchCV(cv=StratifiedKFold(n_splits=5, random_state=1, shuffle=True),\n",
       "             error_score='raise-deprecating',\n",
       "             estimator=XGBClassifier(base_score=0.5, booster='gbtree',\n",
       "                                     colsample_bylevel=1, colsample_bynode=1,\n",
       "                                     colsample_bytree=1, gamma=0,\n",
       "                                     learning_rate=0.2, max_delta_step=0,\n",
       "                                     max_depth=9, min_child_weight=3,\n",
       "                                     missing=None, n_estimators=95, n_jobs=1,\n",
       "                                     nthread=None, objective='binary:logistic',\n",
       "                                     random_state=0, reg_alpha=0, reg_lambda=1,\n",
       "                                     scale_pos_weight=1, seed=None, silent=None,\n",
       "                                     subsample=1, verbosity=1),\n",
       "             iid=False, n_jobs=-1,\n",
       "             param_grid={'gamma': [0.0, 0.1, 0.2, 0.3, 0.4]},\n",
       "             pre_dispatch='2*n_jobs', refit=True, return_train_score=False,\n",
       "             scoring='roc_auc', verbose=3)"
      ]
     },
     "execution_count": 123,
     "metadata": {},
     "output_type": "execute_result"
    }
   ],
   "source": [
    "gsearch3.fit(X_sparse, Y_train)"
   ]
  },
  {
   "cell_type": "code",
   "execution_count": 124,
   "metadata": {},
   "outputs": [
    {
     "data": {
      "text/plain": [
       "XGBClassifier(base_score=0.5, booster='gbtree', colsample_bylevel=1,\n",
       "              colsample_bynode=1, colsample_bytree=1, gamma=0.3,\n",
       "              learning_rate=0.2, max_delta_step=0, max_depth=9,\n",
       "              min_child_weight=3, missing=None, n_estimators=95, n_jobs=1,\n",
       "              nthread=None, objective='binary:logistic', random_state=0,\n",
       "              reg_alpha=0, reg_lambda=1, scale_pos_weight=1, seed=None,\n",
       "              silent=None, subsample=1, verbosity=1)"
      ]
     },
     "execution_count": 124,
     "metadata": {},
     "output_type": "execute_result"
    }
   ],
   "source": [
    "gsearch3.best_estimator_"
   ]
  },
  {
   "cell_type": "code",
   "execution_count": 125,
   "metadata": {},
   "outputs": [
    {
     "data": {
      "text/plain": [
       "{'gamma': 0.3}"
      ]
     },
     "execution_count": 125,
     "metadata": {},
     "output_type": "execute_result"
    }
   ],
   "source": [
    "gsearch3.best_params_"
   ]
  },
  {
   "cell_type": "code",
   "execution_count": 126,
   "metadata": {},
   "outputs": [
    {
     "data": {
      "text/plain": [
       "0.9599265396963835"
      ]
     },
     "execution_count": 126,
     "metadata": {},
     "output_type": "execute_result"
    }
   ],
   "source": [
    "gsearch3.best_score_"
   ]
  },
  {
   "cell_type": "code",
   "execution_count": 127,
   "metadata": {},
   "outputs": [
    {
     "data": {
      "text/plain": [
       "XGBClassifier(base_score=0.5, booster='gbtree', colsample_bylevel=1,\n",
       "              colsample_bynode=1, colsample_bytree=1, gamma=0.3,\n",
       "              learning_rate=0.2, max_delta_step=0, max_depth=9,\n",
       "              min_child_weight=3, missing=None, n_estimators=95, n_jobs=1,\n",
       "              nthread=None, objective='binary:logistic', random_state=0,\n",
       "              reg_alpha=0, reg_lambda=1, scale_pos_weight=1, seed=None,\n",
       "              silent=None, subsample=1, verbosity=1)"
      ]
     },
     "execution_count": 127,
     "metadata": {},
     "output_type": "execute_result"
    }
   ],
   "source": [
    "clf3 = XGBClassifier(n_estimators=95, learning_rate=0.2, max_depth=9, min_child_weight=3,gamma=0.3)\n",
    "clf3.fit(X_sparse, Y_train)"
   ]
  },
  {
   "cell_type": "code",
   "execution_count": 128,
   "metadata": {},
   "outputs": [],
   "source": [
    "y_pred_ = clf3.predict(X_test_sparse)"
   ]
  },
  {
   "cell_type": "code",
   "execution_count": 129,
   "metadata": {},
   "outputs": [],
   "source": [
    "submission12 = pd.DataFrame({'activity_id' : test_id, 'outcome': y_pred_clf3})\n",
    "submission12.to_csv('submission12.csv', index = False)"
   ]
  },
  {
   "cell_type": "code",
   "execution_count": null,
   "metadata": {},
   "outputs": [],
   "source": [
    "# 0.87174"
   ]
  }
 ],
 "metadata": {
  "kernelspec": {
   "display_name": "Python 3",
   "language": "python",
   "name": "python3"
  },
  "language_info": {
   "codemirror_mode": {
    "name": "ipython",
    "version": 3
   },
   "file_extension": ".py",
   "mimetype": "text/x-python",
   "name": "python",
   "nbconvert_exporter": "python",
   "pygments_lexer": "ipython3",
   "version": "3.7.4"
  }
 },
 "nbformat": 4,
 "nbformat_minor": 2
}
